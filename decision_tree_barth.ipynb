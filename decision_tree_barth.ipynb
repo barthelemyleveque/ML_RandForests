{
 "cells": [
  {
   "cell_type": "markdown",
   "metadata": {},
   "source": [
    "Nous allons créer un Decision Tree permettant de classifier differents elements, en l'occurence des fruits en fonctions de trois attributs."
   ]
  },
  {
   "cell_type": "code",
   "execution_count": 11,
   "metadata": {},
   "outputs": [],
   "source": [
    "from __future__ import print_function\n",
    "import numpy as np\n",
    "import pandas as pd"
   ]
  },
  {
   "cell_type": "code",
   "execution_count": 12,
   "metadata": {},
   "outputs": [],
   "source": [
    "training_data = pd.read_csv(\"data.csv\")"
   ]
  },
  {
   "cell_type": "markdown",
   "metadata": {},
   "source": [
    "### Visualisez les donnees (valeurs reelles) ###"
   ]
  },
  {
   "cell_type": "code",
   "execution_count": 13,
   "metadata": {},
   "outputs": [
    {
     "data": {
      "text/html": [
       "<div>\n",
       "<style scoped>\n",
       "    .dataframe tbody tr th:only-of-type {\n",
       "        vertical-align: middle;\n",
       "    }\n",
       "\n",
       "    .dataframe tbody tr th {\n",
       "        vertical-align: top;\n",
       "    }\n",
       "\n",
       "    .dataframe thead th {\n",
       "        text-align: right;\n",
       "    }\n",
       "</style>\n",
       "<table border=\"1\" class=\"dataframe\">\n",
       "  <thead>\n",
       "    <tr style=\"text-align: right;\">\n",
       "      <th></th>\n",
       "      <th>Color</th>\n",
       "      <th>Size</th>\n",
       "      <th>Season</th>\n",
       "      <th>Label</th>\n",
       "    </tr>\n",
       "  </thead>\n",
       "  <tbody>\n",
       "    <tr>\n",
       "      <th>0</th>\n",
       "      <td>Red</td>\n",
       "      <td>1</td>\n",
       "      <td>Summer</td>\n",
       "      <td>Grape</td>\n",
       "    </tr>\n",
       "    <tr>\n",
       "      <th>1</th>\n",
       "      <td>Green</td>\n",
       "      <td>3</td>\n",
       "      <td>Spring</td>\n",
       "      <td>Apple</td>\n",
       "    </tr>\n",
       "    <tr>\n",
       "      <th>2</th>\n",
       "      <td>Red</td>\n",
       "      <td>3</td>\n",
       "      <td>Winter</td>\n",
       "      <td>Orange</td>\n",
       "    </tr>\n",
       "    <tr>\n",
       "      <th>3</th>\n",
       "      <td>Green</td>\n",
       "      <td>2</td>\n",
       "      <td>Winter</td>\n",
       "      <td>Kiwi</td>\n",
       "    </tr>\n",
       "    <tr>\n",
       "      <th>4</th>\n",
       "      <td>Yellow</td>\n",
       "      <td>3</td>\n",
       "      <td>Winter</td>\n",
       "      <td>Lemon</td>\n",
       "    </tr>\n",
       "    <tr>\n",
       "      <th>5</th>\n",
       "      <td>Green</td>\n",
       "      <td>2</td>\n",
       "      <td>Winter</td>\n",
       "      <td>Kiwi</td>\n",
       "    </tr>\n",
       "    <tr>\n",
       "      <th>6</th>\n",
       "      <td>Yellow</td>\n",
       "      <td>3</td>\n",
       "      <td>Winter</td>\n",
       "      <td>Lemon</td>\n",
       "    </tr>\n",
       "    <tr>\n",
       "      <th>7</th>\n",
       "      <td>Green</td>\n",
       "      <td>1</td>\n",
       "      <td>Summer</td>\n",
       "      <td>Grape</td>\n",
       "    </tr>\n",
       "    <tr>\n",
       "      <th>8</th>\n",
       "      <td>Red</td>\n",
       "      <td>3</td>\n",
       "      <td>Spring</td>\n",
       "      <td>Apple</td>\n",
       "    </tr>\n",
       "    <tr>\n",
       "      <th>9</th>\n",
       "      <td>Red</td>\n",
       "      <td>3</td>\n",
       "      <td>Winter</td>\n",
       "      <td>Orange</td>\n",
       "    </tr>\n",
       "    <tr>\n",
       "      <th>10</th>\n",
       "      <td>Green</td>\n",
       "      <td>3</td>\n",
       "      <td>Winter</td>\n",
       "      <td>Kiwi</td>\n",
       "    </tr>\n",
       "    <tr>\n",
       "      <th>11</th>\n",
       "      <td>Yellow</td>\n",
       "      <td>2</td>\n",
       "      <td>Winter</td>\n",
       "      <td>Lemon</td>\n",
       "    </tr>\n",
       "    <tr>\n",
       "      <th>12</th>\n",
       "      <td>Red</td>\n",
       "      <td>1</td>\n",
       "      <td>Summer</td>\n",
       "      <td>Grape</td>\n",
       "    </tr>\n",
       "    <tr>\n",
       "      <th>13</th>\n",
       "      <td>Green</td>\n",
       "      <td>3</td>\n",
       "      <td>Spring</td>\n",
       "      <td>Apple</td>\n",
       "    </tr>\n",
       "    <tr>\n",
       "      <th>14</th>\n",
       "      <td>Red</td>\n",
       "      <td>3</td>\n",
       "      <td>Winter</td>\n",
       "      <td>Orange</td>\n",
       "    </tr>\n",
       "    <tr>\n",
       "      <th>15</th>\n",
       "      <td>Green</td>\n",
       "      <td>2</td>\n",
       "      <td>Winter</td>\n",
       "      <td>Kiwi</td>\n",
       "    </tr>\n",
       "    <tr>\n",
       "      <th>16</th>\n",
       "      <td>Yellow</td>\n",
       "      <td>2</td>\n",
       "      <td>Winter</td>\n",
       "      <td>Lemon</td>\n",
       "    </tr>\n",
       "    <tr>\n",
       "      <th>17</th>\n",
       "      <td>Red</td>\n",
       "      <td>1</td>\n",
       "      <td>Summer</td>\n",
       "      <td>Grape</td>\n",
       "    </tr>\n",
       "    <tr>\n",
       "      <th>18</th>\n",
       "      <td>Green</td>\n",
       "      <td>3</td>\n",
       "      <td>Spring</td>\n",
       "      <td>Apple</td>\n",
       "    </tr>\n",
       "    <tr>\n",
       "      <th>19</th>\n",
       "      <td>Red</td>\n",
       "      <td>3</td>\n",
       "      <td>Winter</td>\n",
       "      <td>Orange</td>\n",
       "    </tr>\n",
       "    <tr>\n",
       "      <th>20</th>\n",
       "      <td>Green</td>\n",
       "      <td>3</td>\n",
       "      <td>Winter</td>\n",
       "      <td>Kiwi</td>\n",
       "    </tr>\n",
       "    <tr>\n",
       "      <th>21</th>\n",
       "      <td>Yellow</td>\n",
       "      <td>3</td>\n",
       "      <td>Winter</td>\n",
       "      <td>Lemon</td>\n",
       "    </tr>\n",
       "    <tr>\n",
       "      <th>22</th>\n",
       "      <td>Red</td>\n",
       "      <td>1</td>\n",
       "      <td>Summer</td>\n",
       "      <td>Grape</td>\n",
       "    </tr>\n",
       "    <tr>\n",
       "      <th>23</th>\n",
       "      <td>Green</td>\n",
       "      <td>3</td>\n",
       "      <td>Spring</td>\n",
       "      <td>Apple</td>\n",
       "    </tr>\n",
       "    <tr>\n",
       "      <th>24</th>\n",
       "      <td>Red</td>\n",
       "      <td>3</td>\n",
       "      <td>Winter</td>\n",
       "      <td>Orange</td>\n",
       "    </tr>\n",
       "    <tr>\n",
       "      <th>25</th>\n",
       "      <td>Green</td>\n",
       "      <td>2</td>\n",
       "      <td>Winter</td>\n",
       "      <td>Kiwi</td>\n",
       "    </tr>\n",
       "    <tr>\n",
       "      <th>26</th>\n",
       "      <td>Yellow</td>\n",
       "      <td>3</td>\n",
       "      <td>Winter</td>\n",
       "      <td>Lemon</td>\n",
       "    </tr>\n",
       "    <tr>\n",
       "      <th>27</th>\n",
       "      <td>Red</td>\n",
       "      <td>1</td>\n",
       "      <td>Summer</td>\n",
       "      <td>Grape</td>\n",
       "    </tr>\n",
       "    <tr>\n",
       "      <th>28</th>\n",
       "      <td>Green</td>\n",
       "      <td>3</td>\n",
       "      <td>Spring</td>\n",
       "      <td>Apple</td>\n",
       "    </tr>\n",
       "    <tr>\n",
       "      <th>29</th>\n",
       "      <td>Red</td>\n",
       "      <td>3</td>\n",
       "      <td>Winter</td>\n",
       "      <td>Orange</td>\n",
       "    </tr>\n",
       "    <tr>\n",
       "      <th>...</th>\n",
       "      <td>...</td>\n",
       "      <td>...</td>\n",
       "      <td>...</td>\n",
       "      <td>...</td>\n",
       "    </tr>\n",
       "    <tr>\n",
       "      <th>70</th>\n",
       "      <td>Green</td>\n",
       "      <td>2</td>\n",
       "      <td>Winter</td>\n",
       "      <td>Kiwi</td>\n",
       "    </tr>\n",
       "    <tr>\n",
       "      <th>71</th>\n",
       "      <td>Yellow</td>\n",
       "      <td>3</td>\n",
       "      <td>Winter</td>\n",
       "      <td>Lemon</td>\n",
       "    </tr>\n",
       "    <tr>\n",
       "      <th>72</th>\n",
       "      <td>Red</td>\n",
       "      <td>1</td>\n",
       "      <td>Summer</td>\n",
       "      <td>Grape</td>\n",
       "    </tr>\n",
       "    <tr>\n",
       "      <th>73</th>\n",
       "      <td>Green</td>\n",
       "      <td>3</td>\n",
       "      <td>Spring</td>\n",
       "      <td>Apple</td>\n",
       "    </tr>\n",
       "    <tr>\n",
       "      <th>74</th>\n",
       "      <td>Red</td>\n",
       "      <td>3</td>\n",
       "      <td>Winter</td>\n",
       "      <td>Orange</td>\n",
       "    </tr>\n",
       "    <tr>\n",
       "      <th>75</th>\n",
       "      <td>Green</td>\n",
       "      <td>2</td>\n",
       "      <td>Winter</td>\n",
       "      <td>Kiwi</td>\n",
       "    </tr>\n",
       "    <tr>\n",
       "      <th>76</th>\n",
       "      <td>Yellow</td>\n",
       "      <td>3</td>\n",
       "      <td>Winter</td>\n",
       "      <td>Lemon</td>\n",
       "    </tr>\n",
       "    <tr>\n",
       "      <th>77</th>\n",
       "      <td>Red</td>\n",
       "      <td>1</td>\n",
       "      <td>Summer</td>\n",
       "      <td>Grape</td>\n",
       "    </tr>\n",
       "    <tr>\n",
       "      <th>78</th>\n",
       "      <td>Green</td>\n",
       "      <td>3</td>\n",
       "      <td>Spring</td>\n",
       "      <td>Apple</td>\n",
       "    </tr>\n",
       "    <tr>\n",
       "      <th>79</th>\n",
       "      <td>Red</td>\n",
       "      <td>3</td>\n",
       "      <td>Winter</td>\n",
       "      <td>Orange</td>\n",
       "    </tr>\n",
       "    <tr>\n",
       "      <th>80</th>\n",
       "      <td>Green</td>\n",
       "      <td>2</td>\n",
       "      <td>Winter</td>\n",
       "      <td>Kiwi</td>\n",
       "    </tr>\n",
       "    <tr>\n",
       "      <th>81</th>\n",
       "      <td>Yellow</td>\n",
       "      <td>3</td>\n",
       "      <td>Winter</td>\n",
       "      <td>Lemon</td>\n",
       "    </tr>\n",
       "    <tr>\n",
       "      <th>82</th>\n",
       "      <td>Red</td>\n",
       "      <td>1</td>\n",
       "      <td>Summer</td>\n",
       "      <td>Grape</td>\n",
       "    </tr>\n",
       "    <tr>\n",
       "      <th>83</th>\n",
       "      <td>Green</td>\n",
       "      <td>3</td>\n",
       "      <td>Spring</td>\n",
       "      <td>Apple</td>\n",
       "    </tr>\n",
       "    <tr>\n",
       "      <th>84</th>\n",
       "      <td>Red</td>\n",
       "      <td>3</td>\n",
       "      <td>Winter</td>\n",
       "      <td>Orange</td>\n",
       "    </tr>\n",
       "    <tr>\n",
       "      <th>85</th>\n",
       "      <td>Green</td>\n",
       "      <td>2</td>\n",
       "      <td>Winter</td>\n",
       "      <td>Kiwi</td>\n",
       "    </tr>\n",
       "    <tr>\n",
       "      <th>86</th>\n",
       "      <td>Yellow</td>\n",
       "      <td>3</td>\n",
       "      <td>Winter</td>\n",
       "      <td>Lemon</td>\n",
       "    </tr>\n",
       "    <tr>\n",
       "      <th>87</th>\n",
       "      <td>Red</td>\n",
       "      <td>1</td>\n",
       "      <td>Summer</td>\n",
       "      <td>Grape</td>\n",
       "    </tr>\n",
       "    <tr>\n",
       "      <th>88</th>\n",
       "      <td>Green</td>\n",
       "      <td>3</td>\n",
       "      <td>Spring</td>\n",
       "      <td>Apple</td>\n",
       "    </tr>\n",
       "    <tr>\n",
       "      <th>89</th>\n",
       "      <td>Red</td>\n",
       "      <td>3</td>\n",
       "      <td>Winter</td>\n",
       "      <td>Orange</td>\n",
       "    </tr>\n",
       "    <tr>\n",
       "      <th>90</th>\n",
       "      <td>Green</td>\n",
       "      <td>2</td>\n",
       "      <td>Winter</td>\n",
       "      <td>Kiwi</td>\n",
       "    </tr>\n",
       "    <tr>\n",
       "      <th>91</th>\n",
       "      <td>Yellow</td>\n",
       "      <td>3</td>\n",
       "      <td>Winter</td>\n",
       "      <td>Lemon</td>\n",
       "    </tr>\n",
       "    <tr>\n",
       "      <th>92</th>\n",
       "      <td>Red</td>\n",
       "      <td>1</td>\n",
       "      <td>Summer</td>\n",
       "      <td>Grape</td>\n",
       "    </tr>\n",
       "    <tr>\n",
       "      <th>93</th>\n",
       "      <td>Green</td>\n",
       "      <td>3</td>\n",
       "      <td>Spring</td>\n",
       "      <td>Apple</td>\n",
       "    </tr>\n",
       "    <tr>\n",
       "      <th>94</th>\n",
       "      <td>Red</td>\n",
       "      <td>3</td>\n",
       "      <td>Winter</td>\n",
       "      <td>Orange</td>\n",
       "    </tr>\n",
       "    <tr>\n",
       "      <th>95</th>\n",
       "      <td>Green</td>\n",
       "      <td>2</td>\n",
       "      <td>Winter</td>\n",
       "      <td>Kiwi</td>\n",
       "    </tr>\n",
       "    <tr>\n",
       "      <th>96</th>\n",
       "      <td>Yellow</td>\n",
       "      <td>3</td>\n",
       "      <td>Winter</td>\n",
       "      <td>Lemon</td>\n",
       "    </tr>\n",
       "    <tr>\n",
       "      <th>97</th>\n",
       "      <td>Red</td>\n",
       "      <td>3</td>\n",
       "      <td>Winter</td>\n",
       "      <td>Orange</td>\n",
       "    </tr>\n",
       "    <tr>\n",
       "      <th>98</th>\n",
       "      <td>Green</td>\n",
       "      <td>2</td>\n",
       "      <td>Winter</td>\n",
       "      <td>Kiwi</td>\n",
       "    </tr>\n",
       "    <tr>\n",
       "      <th>99</th>\n",
       "      <td>Green</td>\n",
       "      <td>2</td>\n",
       "      <td>Winter</td>\n",
       "      <td>Kiwi</td>\n",
       "    </tr>\n",
       "  </tbody>\n",
       "</table>\n",
       "<p>100 rows × 4 columns</p>\n",
       "</div>"
      ],
      "text/plain": [
       "     Color  Size  Season   Label\n",
       "0      Red     1  Summer   Grape\n",
       "1    Green     3  Spring   Apple\n",
       "2      Red     3  Winter  Orange\n",
       "3    Green     2  Winter    Kiwi\n",
       "4   Yellow     3  Winter   Lemon\n",
       "5    Green     2  Winter    Kiwi\n",
       "6   Yellow     3  Winter   Lemon\n",
       "7    Green     1  Summer   Grape\n",
       "8      Red     3  Spring   Apple\n",
       "9      Red     3  Winter  Orange\n",
       "10   Green     3  Winter    Kiwi\n",
       "11  Yellow     2  Winter   Lemon\n",
       "12     Red     1  Summer   Grape\n",
       "13   Green     3  Spring   Apple\n",
       "14     Red     3  Winter  Orange\n",
       "15   Green     2  Winter    Kiwi\n",
       "16  Yellow     2  Winter   Lemon\n",
       "17     Red     1  Summer   Grape\n",
       "18   Green     3  Spring   Apple\n",
       "19     Red     3  Winter  Orange\n",
       "20   Green     3  Winter    Kiwi\n",
       "21  Yellow     3  Winter   Lemon\n",
       "22     Red     1  Summer   Grape\n",
       "23   Green     3  Spring   Apple\n",
       "24     Red     3  Winter  Orange\n",
       "25   Green     2  Winter    Kiwi\n",
       "26  Yellow     3  Winter   Lemon\n",
       "27     Red     1  Summer   Grape\n",
       "28   Green     3  Spring   Apple\n",
       "29     Red     3  Winter  Orange\n",
       "..     ...   ...     ...     ...\n",
       "70   Green     2  Winter    Kiwi\n",
       "71  Yellow     3  Winter   Lemon\n",
       "72     Red     1  Summer   Grape\n",
       "73   Green     3  Spring   Apple\n",
       "74     Red     3  Winter  Orange\n",
       "75   Green     2  Winter    Kiwi\n",
       "76  Yellow     3  Winter   Lemon\n",
       "77     Red     1  Summer   Grape\n",
       "78   Green     3  Spring   Apple\n",
       "79     Red     3  Winter  Orange\n",
       "80   Green     2  Winter    Kiwi\n",
       "81  Yellow     3  Winter   Lemon\n",
       "82     Red     1  Summer   Grape\n",
       "83   Green     3  Spring   Apple\n",
       "84     Red     3  Winter  Orange\n",
       "85   Green     2  Winter    Kiwi\n",
       "86  Yellow     3  Winter   Lemon\n",
       "87     Red     1  Summer   Grape\n",
       "88   Green     3  Spring   Apple\n",
       "89     Red     3  Winter  Orange\n",
       "90   Green     2  Winter    Kiwi\n",
       "91  Yellow     3  Winter   Lemon\n",
       "92     Red     1  Summer   Grape\n",
       "93   Green     3  Spring   Apple\n",
       "94     Red     3  Winter  Orange\n",
       "95   Green     2  Winter    Kiwi\n",
       "96  Yellow     3  Winter   Lemon\n",
       "97     Red     3  Winter  Orange\n",
       "98   Green     2  Winter    Kiwi\n",
       "99   Green     2  Winter    Kiwi\n",
       "\n",
       "[100 rows x 4 columns]"
      ]
     },
     "execution_count": 13,
     "metadata": {},
     "output_type": "execute_result"
    }
   ],
   "source": [
    "training_data"
   ]
  },
  {
   "cell_type": "markdown",
   "metadata": {},
   "source": [
    "## Definissez X qui contiendra les attributs ET les labels (pour faciliter le partinioning par la suite)##"
   ]
  },
  {
   "cell_type": "code",
   "execution_count": 15,
   "metadata": {},
   "outputs": [],
   "source": [
    "X = training_data.values[:,:4]"
   ]
  },
  {
   "cell_type": "code",
   "execution_count": 16,
   "metadata": {},
   "outputs": [],
   "source": [
    "# Nous devons maintenant stocker les differents titres de categrories pour pouvoir afficher notre arbre\n",
    "header = [\"color\", \"size\", \"season\", \"label\"]"
   ]
  },
  {
   "cell_type": "markdown",
   "metadata": {},
   "source": [
    "## Definir la fonction permettant de trouver les differentes valeurs possibles pour chaque categorie ##"
   ]
  },
  {
   "cell_type": "code",
   "execution_count": 17,
   "metadata": {},
   "outputs": [],
   "source": [
    "def unique_vals(rows, col):\n",
    "    return set([row[col] for row in rows])"
   ]
  },
  {
   "cell_type": "markdown",
   "metadata": {},
   "source": [
    "### Testez votre fonction pour les differents attributs et labels ###"
   ]
  },
  {
   "cell_type": "code",
   "execution_count": 19,
   "metadata": {},
   "outputs": [
    {
     "data": {
      "text/plain": [
       "{'Spring', 'Summer', 'Winter'}"
      ]
     },
     "execution_count": 19,
     "metadata": {},
     "output_type": "execute_result"
    }
   ],
   "source": [
    "# Quelles sont les differentes saisons ?\n",
    "unique_vals(X, 2)"
   ]
  },
  {
   "cell_type": "code",
   "execution_count": 21,
   "metadata": {},
   "outputs": [
    {
     "data": {
      "text/plain": [
       "{'Green', 'Red', 'Yellow'}"
      ]
     },
     "execution_count": 21,
     "metadata": {},
     "output_type": "execute_result"
    }
   ],
   "source": [
    "# Quels sont les couleurs possibles ?\n",
    "unique_vals(X, 0)"
   ]
  },
  {
   "cell_type": "code",
   "execution_count": 22,
   "metadata": {},
   "outputs": [
    {
     "data": {
      "text/plain": [
       "{'Apple', 'Grape', 'Kiwi', 'Lemon', 'Orange'}"
      ]
     },
     "execution_count": 22,
     "metadata": {},
     "output_type": "execute_result"
    }
   ],
   "source": [
    "# Quels sont les differents fruits presents dans le dataset ?\n",
    "unique_vals(X, -1)"
   ]
  },
  {
   "cell_type": "markdown",
   "metadata": {},
   "source": [
    "### Definir la fonction permettant de compter le nombre de fruits présents *(astuce : créer un dictionnaire)* ###"
   ]
  },
  {
   "cell_type": "code",
   "execution_count": 23,
   "metadata": {},
   "outputs": [],
   "source": [
    "def class_counts(rows):\n",
    "    counts = {}\n",
    "    for row in rows:\n",
    "        label = row[-1]\n",
    "        if label not in counts:\n",
    "            counts[label] = 0\n",
    "        counts[label] += 1\n",
    "    return counts"
   ]
  },
  {
   "cell_type": "code",
   "execution_count": 24,
   "metadata": {},
   "outputs": [
    {
     "data": {
      "text/plain": [
       "{'Grape': 19, 'Apple': 19, 'Orange': 20, 'Kiwi': 22, 'Lemon': 20}"
      ]
     },
     "execution_count": 24,
     "metadata": {},
     "output_type": "execute_result"
    }
   ],
   "source": [
    "## Lancez votre fonction qui prend en paramètre X :\n",
    "class_counts(X)\n",
    "## Elle devrait retourner : {'Grape': 19, 'Apple': 19, 'Orange': 20, 'Kiwi': 22, 'Lemon': 20} "
   ]
  },
  {
   "cell_type": "code",
   "execution_count": 16,
   "metadata": {},
   "outputs": [],
   "source": [
    "def is_numeric(value):\n",
    "    \"\"\"Test if a value is numeric.\"\"\"\n",
    "    return isinstance(value, int) or isinstance(value, float)"
   ]
  },
  {
   "cell_type": "code",
   "execution_count": 17,
   "metadata": {},
   "outputs": [
    {
     "data": {
      "text/plain": [
       "False"
      ]
     },
     "execution_count": 17,
     "metadata": {},
     "output_type": "execute_result"
    }
   ],
   "source": [
    "#######\n",
    "# Demo:\n",
    "is_numeric(7)\n",
    "is_numeric(\"Red\")\n",
    "#######"
   ]
  },
  {
   "cell_type": "code",
   "execution_count": 18,
   "metadata": {},
   "outputs": [],
   "source": [
    "class Question:\n",
    "    \"\"\"A Question is used to partition a dataset.\n",
    "\n",
    "    This class just records a 'column number' (e.g., 0 for Color) and a\n",
    "    'column value' (e.g., Green). The 'match' method is used to compare\n",
    "    the feature value in an example to the feature value stored in the\n",
    "    question. See the demo below.\n",
    "    \"\"\"\n",
    "\n",
    "    def __init__(self, column, value):\n",
    "        self.column = column\n",
    "        self.value = value\n",
    "\n",
    "    def match(self, example):\n",
    "        # Compare the feature value in an example to the\n",
    "        # feature value in this question.\n",
    "        val = example[self.column]\n",
    "        if is_numeric(val):\n",
    "            return val >= self.value\n",
    "        else:\n",
    "            return val == self.value\n",
    "\n",
    "    def __repr__(self):\n",
    "        # This is just a helper method to print\n",
    "        # the question in a readable format.\n",
    "        condition = \"==\"\n",
    "        if is_numeric(self.value):\n",
    "            condition = \">=\"\n",
    "        return \"Is %s %s %s?\" % (\n",
    "            header[self.column], condition, str(self.value))"
   ]
  },
  {
   "cell_type": "code",
   "execution_count": 19,
   "metadata": {},
   "outputs": [
    {
     "data": {
      "text/plain": [
       "Is color >= 2?"
      ]
     },
     "execution_count": 19,
     "metadata": {},
     "output_type": "execute_result"
    }
   ],
   "source": [
    "#######\n",
    "# Demo:\n",
    "# Let's write a question for a numeric attribute\n",
    "Question(0, 2)"
   ]
  },
  {
   "cell_type": "code",
   "execution_count": 20,
   "metadata": {},
   "outputs": [
    {
     "data": {
      "text/plain": [
       "Is color == Green?"
      ]
     },
     "execution_count": 20,
     "metadata": {},
     "output_type": "execute_result"
    }
   ],
   "source": [
    "# How about one for a categorical attribute\n",
    "q = Question(0, 'Green')\n",
    "q"
   ]
  },
  {
   "cell_type": "code",
   "execution_count": 21,
   "metadata": {},
   "outputs": [
    {
     "data": {
      "text/plain": [
       "True"
      ]
     },
     "execution_count": 21,
     "metadata": {},
     "output_type": "execute_result"
    }
   ],
   "source": [
    "# Let's pick an example from the training set...\n",
    "example = X[1]\n",
    "# ... and see if it matches the question\n",
    "q.match(example) # this will be true, since the first example is Green.\n",
    "#######"
   ]
  },
  {
   "cell_type": "code",
   "execution_count": 22,
   "metadata": {},
   "outputs": [],
   "source": [
    "def partition(rows, question):\n",
    "    \"\"\"Partitions a dataset.\n",
    "\n",
    "    For each row in the dataset, check if it matches the question. If\n",
    "    so, add it to 'true rows', otherwise, add it to 'false rows'.\n",
    "    \"\"\"\n",
    "    true_rows, false_rows = [], []\n",
    "    for row in rows:\n",
    "        if question.match(row):\n",
    "            true_rows.append(row)\n",
    "        else:\n",
    "            false_rows.append(row)\n",
    "    return true_rows, false_rows"
   ]
  },
  {
   "cell_type": "code",
   "execution_count": 23,
   "metadata": {},
   "outputs": [
    {
     "name": "stdout",
     "output_type": "stream",
     "text": [
      "[array(['Green', 3, 'Spring'], dtype=object), array(['Green', 2, 'Winter'], dtype=object), array(['Yellow', 3, 'Winter'], dtype=object), array(['Green', 2, 'Winter'], dtype=object), array(['Yellow', 3, 'Winter'], dtype=object), array(['Green', 1, 'Summer'], dtype=object), array(['Green', 3, 'Winter'], dtype=object), array(['Yellow', 2, 'Winter'], dtype=object)]\n"
     ]
    }
   ],
   "source": [
    "#######\n",
    "# Demo:\n",
    "# Let's partition the training data based on whether rows are Red.\n",
    "true_rows, false_rows = partition(X, Question(0, 'Red'))\n",
    "# This will contain all the 'Red' rows.\n",
    "print(false_rows[:8])"
   ]
  },
  {
   "cell_type": "code",
   "execution_count": 24,
   "metadata": {},
   "outputs": [
    {
     "data": {
      "text/plain": [
       "[array(['Green', 3, 'Spring'], dtype=object),\n",
       " array(['Green', 2, 'Winter'], dtype=object),\n",
       " array(['Yellow', 3, 'Winter'], dtype=object),\n",
       " array(['Green', 2, 'Winter'], dtype=object),\n",
       " array(['Yellow', 3, 'Winter'], dtype=object),\n",
       " array(['Green', 1, 'Summer'], dtype=object),\n",
       " array(['Green', 3, 'Winter'], dtype=object),\n",
       " array(['Yellow', 2, 'Winter'], dtype=object),\n",
       " array(['Green', 3, 'Spring'], dtype=object),\n",
       " array(['Green', 2, 'Winter'], dtype=object),\n",
       " array(['Yellow', 2, 'Winter'], dtype=object),\n",
       " array(['Green', 3, 'Spring'], dtype=object),\n",
       " array(['Green', 3, 'Winter'], dtype=object),\n",
       " array(['Yellow', 3, 'Winter'], dtype=object),\n",
       " array(['Green', 3, 'Spring'], dtype=object),\n",
       " array(['Green', 2, 'Winter'], dtype=object),\n",
       " array(['Yellow', 3, 'Winter'], dtype=object),\n",
       " array(['Green', 3, 'Spring'], dtype=object),\n",
       " array(['Green', 2, 'Winter'], dtype=object),\n",
       " array(['Yellow', 3, 'Winter'], dtype=object),\n",
       " array(['Green', 3, 'Spring'], dtype=object),\n",
       " array(['Green', 2, 'Winter'], dtype=object),\n",
       " array(['Yellow', 3, 'Winter'], dtype=object),\n",
       " array(['Green', 3, 'Spring'], dtype=object),\n",
       " array(['Green', 2, 'Winter'], dtype=object),\n",
       " array(['Yellow', 3, 'Winter'], dtype=object),\n",
       " array(['Green', 3, 'Spring'], dtype=object),\n",
       " array(['Green', 2, 'Winter'], dtype=object),\n",
       " array(['Yellow', 3, 'Winter'], dtype=object),\n",
       " array(['Green', 3, 'Spring'], dtype=object),\n",
       " array(['Green', 2, 'Winter'], dtype=object),\n",
       " array(['Yellow', 3, 'Winter'], dtype=object),\n",
       " array(['Green', 3, 'Spring'], dtype=object),\n",
       " array(['Green', 2, 'Winter'], dtype=object),\n",
       " array(['Yellow', 3, 'Winter'], dtype=object),\n",
       " array(['Green', 3, 'Spring'], dtype=object),\n",
       " array(['Green', 2, 'Winter'], dtype=object),\n",
       " array(['Yellow', 3, 'Winter'], dtype=object),\n",
       " array(['Green', 3, 'Spring'], dtype=object),\n",
       " array(['Green', 2, 'Winter'], dtype=object),\n",
       " array(['Yellow', 3, 'Winter'], dtype=object),\n",
       " array(['Green', 3, 'Spring'], dtype=object),\n",
       " array(['Green', 2, 'Winter'], dtype=object),\n",
       " array(['Yellow', 3, 'Winter'], dtype=object),\n",
       " array(['Green', 3, 'Spring'], dtype=object),\n",
       " array(['Green', 2, 'Winter'], dtype=object),\n",
       " array(['Yellow', 3, 'Winter'], dtype=object),\n",
       " array(['Green', 3, 'Spring'], dtype=object),\n",
       " array(['Green', 2, 'Winter'], dtype=object),\n",
       " array(['Yellow', 3, 'Winter'], dtype=object),\n",
       " array(['Green', 3, 'Spring'], dtype=object),\n",
       " array(['Green', 2, 'Winter'], dtype=object),\n",
       " array(['Yellow', 3, 'Winter'], dtype=object),\n",
       " array(['Green', 3, 'Spring'], dtype=object),\n",
       " array(['Green', 2, 'Winter'], dtype=object),\n",
       " array(['Yellow', 3, 'Winter'], dtype=object),\n",
       " array(['Green', 3, 'Spring'], dtype=object),\n",
       " array(['Green', 2, 'Winter'], dtype=object),\n",
       " array(['Yellow', 3, 'Winter'], dtype=object),\n",
       " array(['Green', 2, 'Winter'], dtype=object),\n",
       " array(['Green', 2, 'Winter'], dtype=object)]"
      ]
     },
     "execution_count": 24,
     "metadata": {},
     "output_type": "execute_result"
    }
   ],
   "source": [
    "# This will contain everything else.\n",
    "false_rows\n",
    "#######"
   ]
  },
  {
   "cell_type": "code",
   "execution_count": 102,
   "metadata": {},
   "outputs": [],
   "source": [
    "def gini(rows):\n",
    "    counts = class_counts(rows)\n",
    "    impurity = 1\n",
    "    for lbl in counts:\n",
    "        prob_of_lbl = counts[lbl] / float(len(rows))\n",
    "        impurity -= prob_of_lbl**2\n",
    "    return impurity"
   ]
  },
  {
   "cell_type": "code",
   "execution_count": 97,
   "metadata": {},
   "outputs": [
    {
     "name": "stdout",
     "output_type": "stream",
     "text": [
      "1.0\n"
     ]
    },
    {
     "data": {
      "text/plain": [
       "0.0"
      ]
     },
     "execution_count": 97,
     "metadata": {},
     "output_type": "execute_result"
    }
   ],
   "source": [
    "#######\n",
    "# Demo:\n",
    "# Let's look at some example to understand how Gini Impurity works.\n",
    "#\n",
    "# First, we'll look at a dataset with no mixing.\n",
    "no_mixing = [['Apple'], ['Apple']]\n",
    "# this will return 0\n",
    "gini(no_mixing)"
   ]
  },
  {
   "cell_type": "code",
   "execution_count": 103,
   "metadata": {},
   "outputs": [
    {
     "data": {
      "text/plain": [
       "0.7777777777777777"
      ]
     },
     "execution_count": 103,
     "metadata": {},
     "output_type": "execute_result"
    }
   ],
   "source": [
    "# Now, we'll look at dataset with a 50:50 apples:oranges ratio\n",
    "some_mixing = [['Apple'], ['Orange'], ['Grape'], ['Grape'], ['Lemon'], ['Kiwi']]\n",
    "# this will return 0.5 - meaning, there's a 50% chance of misclassifying\n",
    "# a random example we draw from the dataset.\n",
    "gini(some_mixing)"
   ]
  },
  {
   "cell_type": "code",
   "execution_count": 99,
   "metadata": {},
   "outputs": [
    {
     "name": "stdout",
     "output_type": "stream",
     "text": [
      "0.2\n",
      "0.2\n",
      "0.2\n",
      "0.2\n",
      "0.2\n"
     ]
    },
    {
     "data": {
      "text/plain": [
       "0.7999999999999998"
      ]
     },
     "execution_count": 99,
     "metadata": {},
     "output_type": "execute_result"
    }
   ],
   "source": [
    "# Now, we'll look at a dataset with many different labels\n",
    "lots_of_mixing = [['Apple'],\n",
    "                  ['Orange'],\n",
    "                  ['Grape'],\n",
    "                  ['Grapefruit'],\n",
    "                  ['Blueberry']]\n",
    "# This will return 0.8\n",
    "gini(lots_of_mixing)\n",
    "#######"
   ]
  },
  {
   "cell_type": "code",
   "execution_count": 29,
   "metadata": {},
   "outputs": [],
   "source": [
    "def info_gain(left, right, current_uncertainty):\n",
    "    \"\"\"Information Gain.\n",
    "\n",
    "    The uncertainty of the starting node, minus the weighted impurity of\n",
    "    two child nodes.\n",
    "    \"\"\"\n",
    "    p = float(len(left)) / (len(left) + len(right))\n",
    "    return current_uncertainty - p * gini(left) - (1 - p) * gini(right)"
   ]
  },
  {
   "cell_type": "code",
   "execution_count": 30,
   "metadata": {},
   "outputs": [
    {
     "data": {
      "text/plain": [
       "0.5433999999999999"
      ]
     },
     "execution_count": 30,
     "metadata": {},
     "output_type": "execute_result"
    }
   ],
   "source": [
    "#######\n",
    "# Demo:\n",
    "# Calculate the uncertainy of our training data.\n",
    "current_uncertainty = gini(X)\n",
    "current_uncertainty\n"
   ]
  },
  {
   "cell_type": "code",
   "execution_count": 31,
   "metadata": {},
   "outputs": [
    {
     "data": {
      "text/plain": [
       "0.06698825961140953"
      ]
     },
     "execution_count": 31,
     "metadata": {},
     "output_type": "execute_result"
    }
   ],
   "source": [
    "# How much information do we gain by partioning on 'Green'?\n",
    "true_rows, false_rows = partition(X, Question(0, 'Green'))\n",
    "info_gain(true_rows, false_rows, current_uncertainty)"
   ]
  },
  {
   "cell_type": "code",
   "execution_count": 32,
   "metadata": {},
   "outputs": [
    {
     "data": {
      "text/plain": [
       "0.0717564522908784"
      ]
     },
     "execution_count": 32,
     "metadata": {},
     "output_type": "execute_result"
    }
   ],
   "source": [
    "# What about if we partioned on 'Red' instead?\n",
    "true_rows, false_rows = partition(X, Question(0,'Red'))\n",
    "info_gain(true_rows, false_rows, current_uncertainty)"
   ]
  },
  {
   "cell_type": "code",
   "execution_count": 33,
   "metadata": {},
   "outputs": [
    {
     "name": "stdout",
     "output_type": "stream",
     "text": [
      "<class 'pandas.core.frame.DataFrame'>\n",
      "<class 'numpy.ndarray'>\n",
      "[array(['Red', 1, 'Summer'], dtype=object), array(['Red', 3, 'Winter'], dtype=object), array(['Red', 3, 'Spring'], dtype=object)]\n",
      "[array(['Green', 3, 'Spring'], dtype=object), array(['Green', 2, 'Winter'], dtype=object), array(['Yellow', 3, 'Winter'], dtype=object)]\n"
     ]
    }
   ],
   "source": [
    "# It looks like we learned more using 'Red' (0.37), than 'Green' (0.14).\n",
    "# Why? Look at the different splits that result, and see which one\n",
    "# looks more 'unmixed' to you.\n",
    "#print(true_rows)\n",
    "true_rows, false_rows = partition(X, Question(0,'Red'))\n",
    "print(type(training_data))\n",
    "print(type(X))\n",
    "# Here, the true_rows contain only 'Grapes'.\n",
    "print(true_rows[:3])\n",
    "print(false_rows[:3])"
   ]
  },
  {
   "cell_type": "code",
   "execution_count": 34,
   "metadata": {},
   "outputs": [
    {
     "data": {
      "text/plain": [
       "[array(['Green', 3, 'Spring'], dtype=object),\n",
       " array(['Green', 2, 'Winter'], dtype=object),\n",
       " array(['Yellow', 3, 'Winter'], dtype=object),\n",
       " array(['Green', 2, 'Winter'], dtype=object),\n",
       " array(['Yellow', 3, 'Winter'], dtype=object),\n",
       " array(['Green', 1, 'Summer'], dtype=object),\n",
       " array(['Green', 3, 'Winter'], dtype=object),\n",
       " array(['Yellow', 2, 'Winter'], dtype=object),\n",
       " array(['Green', 3, 'Spring'], dtype=object),\n",
       " array(['Green', 2, 'Winter'], dtype=object),\n",
       " array(['Yellow', 2, 'Winter'], dtype=object),\n",
       " array(['Green', 3, 'Spring'], dtype=object),\n",
       " array(['Green', 3, 'Winter'], dtype=object),\n",
       " array(['Yellow', 3, 'Winter'], dtype=object),\n",
       " array(['Green', 3, 'Spring'], dtype=object),\n",
       " array(['Green', 2, 'Winter'], dtype=object),\n",
       " array(['Yellow', 3, 'Winter'], dtype=object),\n",
       " array(['Green', 3, 'Spring'], dtype=object),\n",
       " array(['Green', 2, 'Winter'], dtype=object),\n",
       " array(['Yellow', 3, 'Winter'], dtype=object),\n",
       " array(['Green', 3, 'Spring'], dtype=object),\n",
       " array(['Green', 2, 'Winter'], dtype=object),\n",
       " array(['Yellow', 3, 'Winter'], dtype=object),\n",
       " array(['Green', 3, 'Spring'], dtype=object),\n",
       " array(['Green', 2, 'Winter'], dtype=object),\n",
       " array(['Yellow', 3, 'Winter'], dtype=object),\n",
       " array(['Green', 3, 'Spring'], dtype=object),\n",
       " array(['Green', 2, 'Winter'], dtype=object),\n",
       " array(['Yellow', 3, 'Winter'], dtype=object),\n",
       " array(['Green', 3, 'Spring'], dtype=object),\n",
       " array(['Green', 2, 'Winter'], dtype=object),\n",
       " array(['Yellow', 3, 'Winter'], dtype=object),\n",
       " array(['Green', 3, 'Spring'], dtype=object),\n",
       " array(['Green', 2, 'Winter'], dtype=object),\n",
       " array(['Yellow', 3, 'Winter'], dtype=object),\n",
       " array(['Green', 3, 'Spring'], dtype=object),\n",
       " array(['Green', 2, 'Winter'], dtype=object),\n",
       " array(['Yellow', 3, 'Winter'], dtype=object),\n",
       " array(['Green', 3, 'Spring'], dtype=object),\n",
       " array(['Green', 2, 'Winter'], dtype=object),\n",
       " array(['Yellow', 3, 'Winter'], dtype=object),\n",
       " array(['Green', 3, 'Spring'], dtype=object),\n",
       " array(['Green', 2, 'Winter'], dtype=object),\n",
       " array(['Yellow', 3, 'Winter'], dtype=object),\n",
       " array(['Green', 3, 'Spring'], dtype=object),\n",
       " array(['Green', 2, 'Winter'], dtype=object),\n",
       " array(['Yellow', 3, 'Winter'], dtype=object),\n",
       " array(['Green', 3, 'Spring'], dtype=object),\n",
       " array(['Green', 2, 'Winter'], dtype=object),\n",
       " array(['Yellow', 3, 'Winter'], dtype=object),\n",
       " array(['Green', 3, 'Spring'], dtype=object),\n",
       " array(['Green', 2, 'Winter'], dtype=object),\n",
       " array(['Yellow', 3, 'Winter'], dtype=object),\n",
       " array(['Green', 3, 'Spring'], dtype=object),\n",
       " array(['Green', 2, 'Winter'], dtype=object),\n",
       " array(['Yellow', 3, 'Winter'], dtype=object),\n",
       " array(['Green', 3, 'Spring'], dtype=object),\n",
       " array(['Green', 2, 'Winter'], dtype=object),\n",
       " array(['Yellow', 3, 'Winter'], dtype=object),\n",
       " array(['Green', 2, 'Winter'], dtype=object),\n",
       " array(['Green', 2, 'Winter'], dtype=object)]"
      ]
     },
     "execution_count": 34,
     "metadata": {},
     "output_type": "execute_result"
    }
   ],
   "source": [
    "# And the false rows contain two types of fruit. Not too bad.\n",
    "false_rows"
   ]
  },
  {
   "cell_type": "code",
   "execution_count": 35,
   "metadata": {},
   "outputs": [
    {
     "data": {
      "text/plain": [
       "[array(['Green', 3, 'Spring'], dtype=object),\n",
       " array(['Green', 2, 'Winter'], dtype=object),\n",
       " array(['Green', 2, 'Winter'], dtype=object),\n",
       " array(['Green', 1, 'Summer'], dtype=object),\n",
       " array(['Green', 3, 'Winter'], dtype=object),\n",
       " array(['Green', 3, 'Spring'], dtype=object),\n",
       " array(['Green', 2, 'Winter'], dtype=object),\n",
       " array(['Green', 3, 'Spring'], dtype=object),\n",
       " array(['Green', 3, 'Winter'], dtype=object),\n",
       " array(['Green', 3, 'Spring'], dtype=object),\n",
       " array(['Green', 2, 'Winter'], dtype=object),\n",
       " array(['Green', 3, 'Spring'], dtype=object),\n",
       " array(['Green', 2, 'Winter'], dtype=object),\n",
       " array(['Green', 3, 'Spring'], dtype=object),\n",
       " array(['Green', 2, 'Winter'], dtype=object),\n",
       " array(['Green', 3, 'Spring'], dtype=object),\n",
       " array(['Green', 2, 'Winter'], dtype=object),\n",
       " array(['Green', 3, 'Spring'], dtype=object),\n",
       " array(['Green', 2, 'Winter'], dtype=object),\n",
       " array(['Green', 3, 'Spring'], dtype=object),\n",
       " array(['Green', 2, 'Winter'], dtype=object),\n",
       " array(['Green', 3, 'Spring'], dtype=object),\n",
       " array(['Green', 2, 'Winter'], dtype=object),\n",
       " array(['Green', 3, 'Spring'], dtype=object),\n",
       " array(['Green', 2, 'Winter'], dtype=object),\n",
       " array(['Green', 3, 'Spring'], dtype=object),\n",
       " array(['Green', 2, 'Winter'], dtype=object),\n",
       " array(['Green', 3, 'Spring'], dtype=object),\n",
       " array(['Green', 2, 'Winter'], dtype=object),\n",
       " array(['Green', 3, 'Spring'], dtype=object),\n",
       " array(['Green', 2, 'Winter'], dtype=object),\n",
       " array(['Green', 3, 'Spring'], dtype=object),\n",
       " array(['Green', 2, 'Winter'], dtype=object),\n",
       " array(['Green', 3, 'Spring'], dtype=object),\n",
       " array(['Green', 2, 'Winter'], dtype=object),\n",
       " array(['Green', 3, 'Spring'], dtype=object),\n",
       " array(['Green', 2, 'Winter'], dtype=object),\n",
       " array(['Green', 3, 'Spring'], dtype=object),\n",
       " array(['Green', 2, 'Winter'], dtype=object),\n",
       " array(['Green', 2, 'Winter'], dtype=object),\n",
       " array(['Green', 2, 'Winter'], dtype=object)]"
      ]
     },
     "execution_count": 35,
     "metadata": {},
     "output_type": "execute_result"
    }
   ],
   "source": [
    "# On the other hand, partitioning by Green doesn't help so much.\n",
    "true_rows, false_rows = partition(X, Question(0,'Green'))\n",
    "\n",
    "# We've isolated one apple in the true rows.\n",
    "true_rows"
   ]
  },
  {
   "cell_type": "code",
   "execution_count": 36,
   "metadata": {},
   "outputs": [
    {
     "data": {
      "text/plain": [
       "[array(['Red', 1, 'Summer'], dtype=object),\n",
       " array(['Red', 3, 'Winter'], dtype=object),\n",
       " array(['Yellow', 3, 'Winter'], dtype=object),\n",
       " array(['Yellow', 3, 'Winter'], dtype=object),\n",
       " array(['Red', 3, 'Spring'], dtype=object),\n",
       " array(['Red', 3, 'Winter'], dtype=object),\n",
       " array(['Yellow', 2, 'Winter'], dtype=object),\n",
       " array(['Red', 1, 'Summer'], dtype=object),\n",
       " array(['Red', 3, 'Winter'], dtype=object),\n",
       " array(['Yellow', 2, 'Winter'], dtype=object),\n",
       " array(['Red', 1, 'Summer'], dtype=object),\n",
       " array(['Red', 3, 'Winter'], dtype=object),\n",
       " array(['Yellow', 3, 'Winter'], dtype=object),\n",
       " array(['Red', 1, 'Summer'], dtype=object),\n",
       " array(['Red', 3, 'Winter'], dtype=object),\n",
       " array(['Yellow', 3, 'Winter'], dtype=object),\n",
       " array(['Red', 1, 'Summer'], dtype=object),\n",
       " array(['Red', 3, 'Winter'], dtype=object),\n",
       " array(['Yellow', 3, 'Winter'], dtype=object),\n",
       " array(['Red', 1, 'Summer'], dtype=object),\n",
       " array(['Red', 3, 'Winter'], dtype=object),\n",
       " array(['Yellow', 3, 'Winter'], dtype=object),\n",
       " array(['Red', 1, 'Summer'], dtype=object),\n",
       " array(['Red', 3, 'Winter'], dtype=object),\n",
       " array(['Yellow', 3, 'Winter'], dtype=object),\n",
       " array(['Red', 1, 'Summer'], dtype=object),\n",
       " array(['Red', 3, 'Winter'], dtype=object),\n",
       " array(['Yellow', 3, 'Winter'], dtype=object),\n",
       " array(['Red', 1, 'Summer'], dtype=object),\n",
       " array(['Red', 3, 'Winter'], dtype=object),\n",
       " array(['Yellow', 3, 'Winter'], dtype=object),\n",
       " array(['Red', 1, 'Summer'], dtype=object),\n",
       " array(['Red', 3, 'Winter'], dtype=object),\n",
       " array(['Yellow', 3, 'Winter'], dtype=object),\n",
       " array(['Red', 1, 'Summer'], dtype=object),\n",
       " array(['Red', 3, 'Winter'], dtype=object),\n",
       " array(['Yellow', 3, 'Winter'], dtype=object),\n",
       " array(['Red', 1, 'Summer'], dtype=object),\n",
       " array(['Red', 3, 'Winter'], dtype=object),\n",
       " array(['Yellow', 3, 'Winter'], dtype=object),\n",
       " array(['Red', 1, 'Summer'], dtype=object),\n",
       " array(['Red', 3, 'Winter'], dtype=object),\n",
       " array(['Yellow', 3, 'Winter'], dtype=object),\n",
       " array(['Red', 1, 'Summer'], dtype=object),\n",
       " array(['Red', 3, 'Winter'], dtype=object),\n",
       " array(['Yellow', 3, 'Winter'], dtype=object),\n",
       " array(['Red', 1, 'Summer'], dtype=object),\n",
       " array(['Red', 3, 'Winter'], dtype=object),\n",
       " array(['Yellow', 3, 'Winter'], dtype=object),\n",
       " array(['Red', 1, 'Summer'], dtype=object),\n",
       " array(['Red', 3, 'Winter'], dtype=object),\n",
       " array(['Yellow', 3, 'Winter'], dtype=object),\n",
       " array(['Red', 1, 'Summer'], dtype=object),\n",
       " array(['Red', 3, 'Winter'], dtype=object),\n",
       " array(['Yellow', 3, 'Winter'], dtype=object),\n",
       " array(['Red', 1, 'Summer'], dtype=object),\n",
       " array(['Red', 3, 'Winter'], dtype=object),\n",
       " array(['Yellow', 3, 'Winter'], dtype=object),\n",
       " array(['Red', 3, 'Winter'], dtype=object)]"
      ]
     },
     "execution_count": 36,
     "metadata": {},
     "output_type": "execute_result"
    }
   ],
   "source": [
    "# But, the false-rows are badly mixed up.\n",
    "false_rows\n",
    "#######"
   ]
  },
  {
   "cell_type": "code",
   "execution_count": 37,
   "metadata": {},
   "outputs": [],
   "source": [
    "def find_best_split(rows):\n",
    "    \"\"\"Find the best question to ask by iterating over every feature / value\n",
    "    and calculating the information gain.\"\"\"\n",
    "    best_gain = 0  # keep track of the best information gain\n",
    "    best_question = None  # keep train of the feature / value that produced it\n",
    "    current_uncertainty = gini(rows)\n",
    "    n_features = len(rows[0]) - 1  # number of columns\n",
    "\n",
    "    for col in range(n_features):  # for each feature\n",
    "\n",
    "        values = set([row[col] for row in rows])  # unique values in the column\n",
    "\n",
    "        for val in values:  # for each value\n",
    "\n",
    "            question = Question(col, val)\n",
    "\n",
    "            # try splitting the dataset\n",
    "            true_rows, false_rows = partition(rows, question)\n",
    "\n",
    "            # Skip this split if it doesn't divide the\n",
    "            # dataset.\n",
    "            if len(true_rows) == 0 or len(false_rows) == 0:\n",
    "                continue\n",
    "\n",
    "            # Calculate the information gain from this split\n",
    "            gain = info_gain(true_rows, false_rows, current_uncertainty)\n",
    "\n",
    "            # You actually can use '>' instead of '>=' here\n",
    "            # but I wanted the tree to look a certain way for our\n",
    "            # toy dataset.\n",
    "            if gain >= best_gain:\n",
    "                best_gain, best_question = gain, question\n",
    "\n",
    "    return best_gain, best_question"
   ]
  },
  {
   "cell_type": "code",
   "execution_count": 38,
   "metadata": {},
   "outputs": [
    {
     "data": {
      "text/plain": [
       "Is size >= 2?"
      ]
     },
     "execution_count": 38,
     "metadata": {},
     "output_type": "execute_result"
    }
   ],
   "source": [
    "#######\n",
    "# Demo:\n",
    "# Find the best question to ask first for our toy dataset.\n",
    "best_gain, best_question = find_best_split(X)\n",
    "best_question\n",
    "# FYI: is color == Red is just as good. See the note in the code above\n",
    "# where I used '>='.\n",
    "#######"
   ]
  },
  {
   "cell_type": "code",
   "execution_count": 39,
   "metadata": {},
   "outputs": [],
   "source": [
    "class Leaf:\n",
    "    \"\"\"A Leaf node classifies data.\n",
    "\n",
    "    This holds a dictionary of class (e.g., \"Apple\") -> number of times\n",
    "    it appears in the rows from the training data that reach this leaf.\n",
    "    \"\"\"\n",
    "\n",
    "    def __init__(self, rows):\n",
    "        self.predictions = class_counts(rows)"
   ]
  },
  {
   "cell_type": "code",
   "execution_count": 40,
   "metadata": {},
   "outputs": [],
   "source": [
    "class Decision_Node:\n",
    "    \"\"\"A Decision Node asks a question.\n",
    "\n",
    "    This holds a reference to the question, and to the two child nodes.\n",
    "    \"\"\"\n",
    "\n",
    "    def __init__(self,\n",
    "                 question,\n",
    "                 true_branch,\n",
    "                 false_branch):\n",
    "        self.question = question\n",
    "        self.true_branch = true_branch\n",
    "        self.false_branch = false_branch"
   ]
  },
  {
   "cell_type": "code",
   "execution_count": 41,
   "metadata": {},
   "outputs": [],
   "source": [
    "def build_tree(rows):\n",
    "    \"\"\"Builds the tree.\n",
    "\n",
    "    Rules of recursion: 1) Believe that it works. 2) Start by checking\n",
    "    for the base case (no further information gain). 3) Prepare for\n",
    "    giant stack traces.\n",
    "    \"\"\"\n",
    "\n",
    "    # Try partitioing the dataset on each of the unique attribute,\n",
    "    # calculate the information gain,\n",
    "    # and return the question that produces the highest gain.\n",
    "    gain, question = find_best_split(rows)\n",
    "\n",
    "    # Base case: no further info gain\n",
    "    # Since we can ask no further questions,\n",
    "    # we'll return a leaf.\n",
    "    if gain == 0:\n",
    "        return Leaf(rows)\n",
    "\n",
    "    # If we reach here, we have found a useful feature / value\n",
    "    # to partition on.\n",
    "    true_rows, false_rows = partition(rows, question)\n",
    "\n",
    "    # Recursively build the true branch.\n",
    "    true_branch = build_tree(true_rows)\n",
    "\n",
    "    # Recursively build the false branch.\n",
    "    false_branch = build_tree(false_rows)\n",
    "\n",
    "    # Return a Question node.\n",
    "    # This records the best feature / value to ask at this point,\n",
    "    # as well as the branches to follow\n",
    "    # dependingo on the answer.\n",
    "    return Decision_Node(question, true_branch, false_branch)"
   ]
  },
  {
   "cell_type": "code",
   "execution_count": 42,
   "metadata": {},
   "outputs": [],
   "source": [
    "def print_tree(node, spacing=\"\"):\n",
    "    \"\"\"World's most elegant tree printing function.\"\"\"\n",
    "\n",
    "    # Base case: we've reached a leaf\n",
    "    if isinstance(node, Leaf):\n",
    "        print (spacing + \"Predict\", node.predictions)\n",
    "        return\n",
    "\n",
    "    # Print the question at this node\n",
    "    print (spacing + str(node.question))\n",
    "\n",
    "    # Call this function recursively on the true branch\n",
    "    print (spacing + '--> True:')\n",
    "    print_tree(node.true_branch, spacing + \"  \")\n",
    "\n",
    "    # Call this function recursively on the false branch\n",
    "    print (spacing + '--> False:')\n",
    "    print_tree(node.false_branch, spacing + \"  \")"
   ]
  },
  {
   "cell_type": "code",
   "execution_count": 105,
   "metadata": {},
   "outputs": [],
   "source": [
    "my_tree = build_tree(X)"
   ]
  },
  {
   "cell_type": "code",
   "execution_count": 106,
   "metadata": {},
   "outputs": [
    {
     "name": "stdout",
     "output_type": "stream",
     "text": [
      "Is color == Yellow?\n",
      "--> True:\n",
      "  Predict {'Lemon': 20}\n",
      "--> False:\n",
      "  Is season == Winter?\n",
      "  --> True:\n",
      "    Is color == Green?\n",
      "    --> True:\n",
      "      Predict {'Kiwi': 22}\n",
      "    --> False:\n",
      "      Predict {'Orange': 20}\n",
      "  --> False:\n",
      "    Is season == Summer?\n",
      "    --> True:\n",
      "      Predict {'Grape': 19}\n",
      "    --> False:\n",
      "      Predict {'Apple': 19}\n"
     ]
    }
   ],
   "source": [
    "print_tree(my_tree)"
   ]
  },
  {
   "cell_type": "code",
   "execution_count": 45,
   "metadata": {},
   "outputs": [],
   "source": [
    "def classify(row, node):\n",
    "    \"\"\"See the 'rules of recursion' above.\"\"\"\n",
    "\n",
    "    # Base case: we've reached a leaf\n",
    "    if isinstance(node, Leaf):\n",
    "        return node.predictions\n",
    "\n",
    "    # Decide whether to follow the true-branch or the false-branch.\n",
    "    # Compare the feature / value stored in the node,\n",
    "    # to the example we're considering.\n",
    "    if node.question.match(row):\n",
    "        return classify(row, node.true_branch)\n",
    "    else:\n",
    "        return classify(row, node.false_branch)"
   ]
  },
  {
   "cell_type": "code",
   "execution_count": 46,
   "metadata": {},
   "outputs": [
    {
     "data": {
      "text/plain": [
       "{'Summer': 19}"
      ]
     },
     "execution_count": 46,
     "metadata": {},
     "output_type": "execute_result"
    }
   ],
   "source": [
    "#######\n",
    "# Demo:\n",
    "# The tree predicts the 1st row of our\n",
    "# training data is an apple with confidence 1.\n",
    "classify(y[0], my_tree)\n",
    "#######"
   ]
  },
  {
   "cell_type": "code",
   "execution_count": 47,
   "metadata": {},
   "outputs": [],
   "source": [
    "def print_leaf(counts):\n",
    "    \"\"\"A nicer way to print the predictions at a leaf.\"\"\"\n",
    "    total = sum(counts.values()) * 1.0\n",
    "    probs = {}\n",
    "    for lbl in counts.keys():\n",
    "        probs[lbl] = str(int(counts[lbl] / total * 100)) + \"%\"\n",
    "    return probs"
   ]
  },
  {
   "cell_type": "code",
   "execution_count": 104,
   "metadata": {},
   "outputs": [
    {
     "ename": "ValueError",
     "evalue": "The truth value of an array with more than one element is ambiguous. Use a.any() or a.all()",
     "output_type": "error",
     "traceback": [
      "\u001b[0;31m--------------------------------------\u001b[0m",
      "\u001b[0;31mValueError\u001b[0mTraceback (most recent call last)",
      "\u001b[0;32m<ipython-input-104-28815c10cb96>\u001b[0m in \u001b[0;36m<module>\u001b[0;34m\u001b[0m\n\u001b[1;32m      2\u001b[0m \u001b[0;31m# Demo:\u001b[0m\u001b[0;34m\u001b[0m\u001b[0;34m\u001b[0m\u001b[0;34m\u001b[0m\u001b[0m\n\u001b[1;32m      3\u001b[0m \u001b[0;31m# Printing that a bit nicer\u001b[0m\u001b[0;34m\u001b[0m\u001b[0;34m\u001b[0m\u001b[0;34m\u001b[0m\u001b[0m\n\u001b[0;32m----> 4\u001b[0;31m \u001b[0mprint_leaf\u001b[0m\u001b[0;34m(\u001b[0m\u001b[0mclassify\u001b[0m\u001b[0;34m(\u001b[0m\u001b[0mX\u001b[0m\u001b[0;34m,\u001b[0m \u001b[0mmy_tree\u001b[0m\u001b[0;34m)\u001b[0m\u001b[0;34m)\u001b[0m\u001b[0;34m\u001b[0m\u001b[0;34m\u001b[0m\u001b[0m\n\u001b[0m\u001b[1;32m      5\u001b[0m \u001b[0;31m#######\u001b[0m\u001b[0;34m\u001b[0m\u001b[0;34m\u001b[0m\u001b[0;34m\u001b[0m\u001b[0m\n",
      "\u001b[0;32m<ipython-input-45-83a5fc367621>\u001b[0m in \u001b[0;36mclassify\u001b[0;34m(row, node)\u001b[0m\n\u001b[1;32m      9\u001b[0m     \u001b[0;31m# Compare the feature / value stored in the node,\u001b[0m\u001b[0;34m\u001b[0m\u001b[0;34m\u001b[0m\u001b[0;34m\u001b[0m\u001b[0m\n\u001b[1;32m     10\u001b[0m     \u001b[0;31m# to the example we're considering.\u001b[0m\u001b[0;34m\u001b[0m\u001b[0;34m\u001b[0m\u001b[0;34m\u001b[0m\u001b[0m\n\u001b[0;32m---> 11\u001b[0;31m     \u001b[0;32mif\u001b[0m \u001b[0mnode\u001b[0m\u001b[0;34m.\u001b[0m\u001b[0mquestion\u001b[0m\u001b[0;34m.\u001b[0m\u001b[0mmatch\u001b[0m\u001b[0;34m(\u001b[0m\u001b[0mrow\u001b[0m\u001b[0;34m)\u001b[0m\u001b[0;34m:\u001b[0m\u001b[0;34m\u001b[0m\u001b[0;34m\u001b[0m\u001b[0m\n\u001b[0m\u001b[1;32m     12\u001b[0m         \u001b[0;32mreturn\u001b[0m \u001b[0mclassify\u001b[0m\u001b[0;34m(\u001b[0m\u001b[0mrow\u001b[0m\u001b[0;34m,\u001b[0m \u001b[0mnode\u001b[0m\u001b[0;34m.\u001b[0m\u001b[0mtrue_branch\u001b[0m\u001b[0;34m)\u001b[0m\u001b[0;34m\u001b[0m\u001b[0;34m\u001b[0m\u001b[0m\n\u001b[1;32m     13\u001b[0m     \u001b[0;32melse\u001b[0m\u001b[0;34m:\u001b[0m\u001b[0;34m\u001b[0m\u001b[0;34m\u001b[0m\u001b[0m\n",
      "\u001b[0;31mValueError\u001b[0m: The truth value of an array with more than one element is ambiguous. Use a.any() or a.all()"
     ]
    }
   ],
   "source": [
    "#######\n",
    "# Demo:\n",
    "# Printing that a bit nicer\n",
    "print_leaf(classify(X[0], my_tree))\n",
    "#######"
   ]
  },
  {
   "cell_type": "code",
   "execution_count": 107,
   "metadata": {},
   "outputs": [
    {
     "data": {
      "text/plain": [
       "{'Grape': '100%'}"
      ]
     },
     "execution_count": 107,
     "metadata": {},
     "output_type": "execute_result"
    }
   ],
   "source": [
    "#######\n",
    "# Demo:\n",
    "# On the second example, the confidence is lower\n",
    "print_leaf(classify(X[0], my_tree))\n",
    "#######"
   ]
  },
  {
   "cell_type": "code",
   "execution_count": 108,
   "metadata": {},
   "outputs": [],
   "source": [
    "# Evaluate\n",
    "testing_data = [\n",
    "    ['Green', 3, 'Apple'],\n",
    "    ['Yellow', 4, 'Apple'],\n",
    "    ['Red', 2, 'Grape'],\n",
    "    ['Red', 1, 'Grape'],\n",
    "    ['Yellow', 3, 'Lemon'],\n",
    "]"
   ]
  },
  {
   "cell_type": "code",
   "execution_count": 109,
   "metadata": {},
   "outputs": [
    {
     "name": "stdout",
     "output_type": "stream",
     "text": [
      "Actual: Apple. Predicted: {'Apple': '100%'}\n",
      "Actual: Apple. Predicted: {'Lemon': '100%'}\n",
      "Actual: Grape. Predicted: {'Apple': '100%'}\n",
      "Actual: Grape. Predicted: {'Apple': '100%'}\n",
      "Actual: Lemon. Predicted: {'Lemon': '100%'}\n"
     ]
    }
   ],
   "source": [
    "for row in testing_data:\n",
    "    print (\"Actual: %s. Predicted: %s\" %\n",
    "           (row[-1], print_leaf(classify(row, my_tree))))"
   ]
  },
  {
   "cell_type": "code",
   "execution_count": null,
   "metadata": {},
   "outputs": [],
   "source": []
  }
 ],
 "metadata": {
  "kernelspec": {
   "display_name": "Python 3",
   "language": "python",
   "name": "python3"
  },
  "language_info": {
   "codemirror_mode": {
    "name": "ipython",
    "version": 3
   },
   "file_extension": ".py",
   "mimetype": "text/x-python",
   "name": "python",
   "nbconvert_exporter": "python",
   "pygments_lexer": "ipython3",
   "version": "3.7.1"
  }
 },
 "nbformat": 4,
 "nbformat_minor": 2
}
