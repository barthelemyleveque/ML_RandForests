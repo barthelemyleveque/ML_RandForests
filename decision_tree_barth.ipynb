{
 "cells": [
  {
   "cell_type": "markdown",
   "metadata": {},
   "source": [
    "Code to accompany Machine Learning Recipes #8. We'll write a Decision Tree Classifier, in pure Python. Below each of the methods, I've written a little demo to help explain what it does."
   ]
  },
  {
   "cell_type": "code",
   "execution_count": 198,
   "metadata": {},
   "outputs": [],
   "source": [
    "#fonction qui nous permettra d'afficher notre arbre de decision\n",
    "from __future__ import print_function\n",
    "import numpy as np\n",
    "import pandas as pd"
   ]
  },
  {
   "cell_type": "code",
   "execution_count": 199,
   "metadata": {},
   "outputs": [],
   "source": [
    "# Toy dataset.\n",
    "\n",
    "training_data = pd.read_csv(\"data.csv\")"
   ]
  },
  {
   "cell_type": "markdown",
   "metadata": {},
   "source": [
    "### Visualisez les donnees (valeurs reelles) ###"
   ]
  },
  {
   "cell_type": "code",
   "execution_count": 200,
   "metadata": {},
   "outputs": [
    {
     "data": {
      "text/html": [
       "<div>\n",
       "<style scoped>\n",
       "    .dataframe tbody tr th:only-of-type {\n",
       "        vertical-align: middle;\n",
       "    }\n",
       "\n",
       "    .dataframe tbody tr th {\n",
       "        vertical-align: top;\n",
       "    }\n",
       "\n",
       "    .dataframe thead th {\n",
       "        text-align: right;\n",
       "    }\n",
       "</style>\n",
       "<table border=\"1\" class=\"dataframe\">\n",
       "  <thead>\n",
       "    <tr style=\"text-align: right;\">\n",
       "      <th></th>\n",
       "      <th>Color</th>\n",
       "      <th>Size</th>\n",
       "      <th>Season</th>\n",
       "      <th>Label</th>\n",
       "    </tr>\n",
       "  </thead>\n",
       "  <tbody>\n",
       "    <tr>\n",
       "      <th>0</th>\n",
       "      <td>Red</td>\n",
       "      <td>1</td>\n",
       "      <td>Summer</td>\n",
       "      <td>Grape</td>\n",
       "    </tr>\n",
       "    <tr>\n",
       "      <th>1</th>\n",
       "      <td>Green</td>\n",
       "      <td>3</td>\n",
       "      <td>Spring</td>\n",
       "      <td>Apple</td>\n",
       "    </tr>\n",
       "    <tr>\n",
       "      <th>2</th>\n",
       "      <td>Red</td>\n",
       "      <td>3</td>\n",
       "      <td>Winter</td>\n",
       "      <td>Orange</td>\n",
       "    </tr>\n",
       "    <tr>\n",
       "      <th>3</th>\n",
       "      <td>Green</td>\n",
       "      <td>2</td>\n",
       "      <td>Winter</td>\n",
       "      <td>Kiwi</td>\n",
       "    </tr>\n",
       "    <tr>\n",
       "      <th>4</th>\n",
       "      <td>Yellow</td>\n",
       "      <td>3</td>\n",
       "      <td>Winter</td>\n",
       "      <td>Lemon</td>\n",
       "    </tr>\n",
       "    <tr>\n",
       "      <th>5</th>\n",
       "      <td>Green</td>\n",
       "      <td>2</td>\n",
       "      <td>Winter</td>\n",
       "      <td>Kiwi</td>\n",
       "    </tr>\n",
       "    <tr>\n",
       "      <th>6</th>\n",
       "      <td>Yellow</td>\n",
       "      <td>3</td>\n",
       "      <td>Winter</td>\n",
       "      <td>Lemon</td>\n",
       "    </tr>\n",
       "    <tr>\n",
       "      <th>7</th>\n",
       "      <td>Green</td>\n",
       "      <td>1</td>\n",
       "      <td>Summer</td>\n",
       "      <td>Grape</td>\n",
       "    </tr>\n",
       "    <tr>\n",
       "      <th>8</th>\n",
       "      <td>Red</td>\n",
       "      <td>3</td>\n",
       "      <td>Spring</td>\n",
       "      <td>Apple</td>\n",
       "    </tr>\n",
       "    <tr>\n",
       "      <th>9</th>\n",
       "      <td>Red</td>\n",
       "      <td>3</td>\n",
       "      <td>Winter</td>\n",
       "      <td>Orange</td>\n",
       "    </tr>\n",
       "    <tr>\n",
       "      <th>10</th>\n",
       "      <td>Green</td>\n",
       "      <td>3</td>\n",
       "      <td>Winter</td>\n",
       "      <td>Kiwi</td>\n",
       "    </tr>\n",
       "    <tr>\n",
       "      <th>11</th>\n",
       "      <td>Yellow</td>\n",
       "      <td>2</td>\n",
       "      <td>Winter</td>\n",
       "      <td>Lemon</td>\n",
       "    </tr>\n",
       "    <tr>\n",
       "      <th>12</th>\n",
       "      <td>Red</td>\n",
       "      <td>1</td>\n",
       "      <td>Summer</td>\n",
       "      <td>Grape</td>\n",
       "    </tr>\n",
       "    <tr>\n",
       "      <th>13</th>\n",
       "      <td>Green</td>\n",
       "      <td>3</td>\n",
       "      <td>Spring</td>\n",
       "      <td>Apple</td>\n",
       "    </tr>\n",
       "    <tr>\n",
       "      <th>14</th>\n",
       "      <td>Red</td>\n",
       "      <td>3</td>\n",
       "      <td>Winter</td>\n",
       "      <td>Orange</td>\n",
       "    </tr>\n",
       "    <tr>\n",
       "      <th>15</th>\n",
       "      <td>Green</td>\n",
       "      <td>2</td>\n",
       "      <td>Winter</td>\n",
       "      <td>Kiwi</td>\n",
       "    </tr>\n",
       "    <tr>\n",
       "      <th>16</th>\n",
       "      <td>Yellow</td>\n",
       "      <td>2</td>\n",
       "      <td>Winter</td>\n",
       "      <td>Lemon</td>\n",
       "    </tr>\n",
       "    <tr>\n",
       "      <th>17</th>\n",
       "      <td>Red</td>\n",
       "      <td>1</td>\n",
       "      <td>Summer</td>\n",
       "      <td>Grape</td>\n",
       "    </tr>\n",
       "    <tr>\n",
       "      <th>18</th>\n",
       "      <td>Green</td>\n",
       "      <td>3</td>\n",
       "      <td>Spring</td>\n",
       "      <td>Apple</td>\n",
       "    </tr>\n",
       "    <tr>\n",
       "      <th>19</th>\n",
       "      <td>Red</td>\n",
       "      <td>3</td>\n",
       "      <td>Winter</td>\n",
       "      <td>Orange</td>\n",
       "    </tr>\n",
       "    <tr>\n",
       "      <th>20</th>\n",
       "      <td>Green</td>\n",
       "      <td>3</td>\n",
       "      <td>Winter</td>\n",
       "      <td>Kiwi</td>\n",
       "    </tr>\n",
       "    <tr>\n",
       "      <th>21</th>\n",
       "      <td>Yellow</td>\n",
       "      <td>3</td>\n",
       "      <td>Winter</td>\n",
       "      <td>Lemon</td>\n",
       "    </tr>\n",
       "    <tr>\n",
       "      <th>22</th>\n",
       "      <td>Red</td>\n",
       "      <td>1</td>\n",
       "      <td>Summer</td>\n",
       "      <td>Grape</td>\n",
       "    </tr>\n",
       "    <tr>\n",
       "      <th>23</th>\n",
       "      <td>Green</td>\n",
       "      <td>3</td>\n",
       "      <td>Spring</td>\n",
       "      <td>Apple</td>\n",
       "    </tr>\n",
       "    <tr>\n",
       "      <th>24</th>\n",
       "      <td>Red</td>\n",
       "      <td>3</td>\n",
       "      <td>Winter</td>\n",
       "      <td>Orange</td>\n",
       "    </tr>\n",
       "    <tr>\n",
       "      <th>25</th>\n",
       "      <td>Green</td>\n",
       "      <td>2</td>\n",
       "      <td>Winter</td>\n",
       "      <td>Kiwi</td>\n",
       "    </tr>\n",
       "    <tr>\n",
       "      <th>26</th>\n",
       "      <td>Yellow</td>\n",
       "      <td>3</td>\n",
       "      <td>Winter</td>\n",
       "      <td>Lemon</td>\n",
       "    </tr>\n",
       "    <tr>\n",
       "      <th>27</th>\n",
       "      <td>Red</td>\n",
       "      <td>1</td>\n",
       "      <td>Summer</td>\n",
       "      <td>Grape</td>\n",
       "    </tr>\n",
       "    <tr>\n",
       "      <th>28</th>\n",
       "      <td>Green</td>\n",
       "      <td>3</td>\n",
       "      <td>Spring</td>\n",
       "      <td>Apple</td>\n",
       "    </tr>\n",
       "    <tr>\n",
       "      <th>29</th>\n",
       "      <td>Red</td>\n",
       "      <td>3</td>\n",
       "      <td>Winter</td>\n",
       "      <td>Orange</td>\n",
       "    </tr>\n",
       "    <tr>\n",
       "      <th>...</th>\n",
       "      <td>...</td>\n",
       "      <td>...</td>\n",
       "      <td>...</td>\n",
       "      <td>...</td>\n",
       "    </tr>\n",
       "    <tr>\n",
       "      <th>70</th>\n",
       "      <td>Green</td>\n",
       "      <td>2</td>\n",
       "      <td>Winter</td>\n",
       "      <td>Kiwi</td>\n",
       "    </tr>\n",
       "    <tr>\n",
       "      <th>71</th>\n",
       "      <td>Yellow</td>\n",
       "      <td>3</td>\n",
       "      <td>Winter</td>\n",
       "      <td>Lemon</td>\n",
       "    </tr>\n",
       "    <tr>\n",
       "      <th>72</th>\n",
       "      <td>Red</td>\n",
       "      <td>1</td>\n",
       "      <td>Summer</td>\n",
       "      <td>Grape</td>\n",
       "    </tr>\n",
       "    <tr>\n",
       "      <th>73</th>\n",
       "      <td>Green</td>\n",
       "      <td>3</td>\n",
       "      <td>Spring</td>\n",
       "      <td>Apple</td>\n",
       "    </tr>\n",
       "    <tr>\n",
       "      <th>74</th>\n",
       "      <td>Red</td>\n",
       "      <td>3</td>\n",
       "      <td>Winter</td>\n",
       "      <td>Orange</td>\n",
       "    </tr>\n",
       "    <tr>\n",
       "      <th>75</th>\n",
       "      <td>Green</td>\n",
       "      <td>2</td>\n",
       "      <td>Winter</td>\n",
       "      <td>Kiwi</td>\n",
       "    </tr>\n",
       "    <tr>\n",
       "      <th>76</th>\n",
       "      <td>Yellow</td>\n",
       "      <td>3</td>\n",
       "      <td>Winter</td>\n",
       "      <td>Lemon</td>\n",
       "    </tr>\n",
       "    <tr>\n",
       "      <th>77</th>\n",
       "      <td>Red</td>\n",
       "      <td>1</td>\n",
       "      <td>Summer</td>\n",
       "      <td>Grape</td>\n",
       "    </tr>\n",
       "    <tr>\n",
       "      <th>78</th>\n",
       "      <td>Green</td>\n",
       "      <td>3</td>\n",
       "      <td>Spring</td>\n",
       "      <td>Apple</td>\n",
       "    </tr>\n",
       "    <tr>\n",
       "      <th>79</th>\n",
       "      <td>Red</td>\n",
       "      <td>3</td>\n",
       "      <td>Winter</td>\n",
       "      <td>Orange</td>\n",
       "    </tr>\n",
       "    <tr>\n",
       "      <th>80</th>\n",
       "      <td>Green</td>\n",
       "      <td>2</td>\n",
       "      <td>Winter</td>\n",
       "      <td>Kiwi</td>\n",
       "    </tr>\n",
       "    <tr>\n",
       "      <th>81</th>\n",
       "      <td>Yellow</td>\n",
       "      <td>3</td>\n",
       "      <td>Winter</td>\n",
       "      <td>Lemon</td>\n",
       "    </tr>\n",
       "    <tr>\n",
       "      <th>82</th>\n",
       "      <td>Red</td>\n",
       "      <td>1</td>\n",
       "      <td>Summer</td>\n",
       "      <td>Grape</td>\n",
       "    </tr>\n",
       "    <tr>\n",
       "      <th>83</th>\n",
       "      <td>Green</td>\n",
       "      <td>3</td>\n",
       "      <td>Spring</td>\n",
       "      <td>Apple</td>\n",
       "    </tr>\n",
       "    <tr>\n",
       "      <th>84</th>\n",
       "      <td>Red</td>\n",
       "      <td>3</td>\n",
       "      <td>Winter</td>\n",
       "      <td>Orange</td>\n",
       "    </tr>\n",
       "    <tr>\n",
       "      <th>85</th>\n",
       "      <td>Green</td>\n",
       "      <td>2</td>\n",
       "      <td>Winter</td>\n",
       "      <td>Kiwi</td>\n",
       "    </tr>\n",
       "    <tr>\n",
       "      <th>86</th>\n",
       "      <td>Yellow</td>\n",
       "      <td>3</td>\n",
       "      <td>Winter</td>\n",
       "      <td>Lemon</td>\n",
       "    </tr>\n",
       "    <tr>\n",
       "      <th>87</th>\n",
       "      <td>Red</td>\n",
       "      <td>1</td>\n",
       "      <td>Summer</td>\n",
       "      <td>Grape</td>\n",
       "    </tr>\n",
       "    <tr>\n",
       "      <th>88</th>\n",
       "      <td>Green</td>\n",
       "      <td>3</td>\n",
       "      <td>Spring</td>\n",
       "      <td>Apple</td>\n",
       "    </tr>\n",
       "    <tr>\n",
       "      <th>89</th>\n",
       "      <td>Red</td>\n",
       "      <td>3</td>\n",
       "      <td>Winter</td>\n",
       "      <td>Orange</td>\n",
       "    </tr>\n",
       "    <tr>\n",
       "      <th>90</th>\n",
       "      <td>Green</td>\n",
       "      <td>2</td>\n",
       "      <td>Winter</td>\n",
       "      <td>Kiwi</td>\n",
       "    </tr>\n",
       "    <tr>\n",
       "      <th>91</th>\n",
       "      <td>Yellow</td>\n",
       "      <td>3</td>\n",
       "      <td>Winter</td>\n",
       "      <td>Lemon</td>\n",
       "    </tr>\n",
       "    <tr>\n",
       "      <th>92</th>\n",
       "      <td>Red</td>\n",
       "      <td>1</td>\n",
       "      <td>Summer</td>\n",
       "      <td>Grape</td>\n",
       "    </tr>\n",
       "    <tr>\n",
       "      <th>93</th>\n",
       "      <td>Green</td>\n",
       "      <td>3</td>\n",
       "      <td>Spring</td>\n",
       "      <td>Apple</td>\n",
       "    </tr>\n",
       "    <tr>\n",
       "      <th>94</th>\n",
       "      <td>Red</td>\n",
       "      <td>3</td>\n",
       "      <td>Winter</td>\n",
       "      <td>Orange</td>\n",
       "    </tr>\n",
       "    <tr>\n",
       "      <th>95</th>\n",
       "      <td>Green</td>\n",
       "      <td>2</td>\n",
       "      <td>Winter</td>\n",
       "      <td>Kiwi</td>\n",
       "    </tr>\n",
       "    <tr>\n",
       "      <th>96</th>\n",
       "      <td>Yellow</td>\n",
       "      <td>3</td>\n",
       "      <td>Winter</td>\n",
       "      <td>Lemon</td>\n",
       "    </tr>\n",
       "    <tr>\n",
       "      <th>97</th>\n",
       "      <td>Red</td>\n",
       "      <td>3</td>\n",
       "      <td>Winter</td>\n",
       "      <td>Orange</td>\n",
       "    </tr>\n",
       "    <tr>\n",
       "      <th>98</th>\n",
       "      <td>Green</td>\n",
       "      <td>2</td>\n",
       "      <td>Winter</td>\n",
       "      <td>Kiwi</td>\n",
       "    </tr>\n",
       "    <tr>\n",
       "      <th>99</th>\n",
       "      <td>Green</td>\n",
       "      <td>2</td>\n",
       "      <td>Winter</td>\n",
       "      <td>Kiwi</td>\n",
       "    </tr>\n",
       "  </tbody>\n",
       "</table>\n",
       "<p>100 rows × 4 columns</p>\n",
       "</div>"
      ],
      "text/plain": [
       "     Color  Size  Season   Label\n",
       "0      Red     1  Summer   Grape\n",
       "1    Green     3  Spring   Apple\n",
       "2      Red     3  Winter  Orange\n",
       "3    Green     2  Winter    Kiwi\n",
       "4   Yellow     3  Winter   Lemon\n",
       "5    Green     2  Winter    Kiwi\n",
       "6   Yellow     3  Winter   Lemon\n",
       "7    Green     1  Summer   Grape\n",
       "8      Red     3  Spring   Apple\n",
       "9      Red     3  Winter  Orange\n",
       "10   Green     3  Winter    Kiwi\n",
       "11  Yellow     2  Winter   Lemon\n",
       "12     Red     1  Summer   Grape\n",
       "13   Green     3  Spring   Apple\n",
       "14     Red     3  Winter  Orange\n",
       "15   Green     2  Winter    Kiwi\n",
       "16  Yellow     2  Winter   Lemon\n",
       "17     Red     1  Summer   Grape\n",
       "18   Green     3  Spring   Apple\n",
       "19     Red     3  Winter  Orange\n",
       "20   Green     3  Winter    Kiwi\n",
       "21  Yellow     3  Winter   Lemon\n",
       "22     Red     1  Summer   Grape\n",
       "23   Green     3  Spring   Apple\n",
       "24     Red     3  Winter  Orange\n",
       "25   Green     2  Winter    Kiwi\n",
       "26  Yellow     3  Winter   Lemon\n",
       "27     Red     1  Summer   Grape\n",
       "28   Green     3  Spring   Apple\n",
       "29     Red     3  Winter  Orange\n",
       "..     ...   ...     ...     ...\n",
       "70   Green     2  Winter    Kiwi\n",
       "71  Yellow     3  Winter   Lemon\n",
       "72     Red     1  Summer   Grape\n",
       "73   Green     3  Spring   Apple\n",
       "74     Red     3  Winter  Orange\n",
       "75   Green     2  Winter    Kiwi\n",
       "76  Yellow     3  Winter   Lemon\n",
       "77     Red     1  Summer   Grape\n",
       "78   Green     3  Spring   Apple\n",
       "79     Red     3  Winter  Orange\n",
       "80   Green     2  Winter    Kiwi\n",
       "81  Yellow     3  Winter   Lemon\n",
       "82     Red     1  Summer   Grape\n",
       "83   Green     3  Spring   Apple\n",
       "84     Red     3  Winter  Orange\n",
       "85   Green     2  Winter    Kiwi\n",
       "86  Yellow     3  Winter   Lemon\n",
       "87     Red     1  Summer   Grape\n",
       "88   Green     3  Spring   Apple\n",
       "89     Red     3  Winter  Orange\n",
       "90   Green     2  Winter    Kiwi\n",
       "91  Yellow     3  Winter   Lemon\n",
       "92     Red     1  Summer   Grape\n",
       "93   Green     3  Spring   Apple\n",
       "94     Red     3  Winter  Orange\n",
       "95   Green     2  Winter    Kiwi\n",
       "96  Yellow     3  Winter   Lemon\n",
       "97     Red     3  Winter  Orange\n",
       "98   Green     2  Winter    Kiwi\n",
       "99   Green     2  Winter    Kiwi\n",
       "\n",
       "[100 rows x 4 columns]"
      ]
     },
     "execution_count": 200,
     "metadata": {},
     "output_type": "execute_result"
    }
   ],
   "source": [
    "training_data"
   ]
  },
  {
   "cell_type": "code",
   "execution_count": 201,
   "metadata": {},
   "outputs": [],
   "source": [
    "# Definissez X et y "
   ]
  },
  {
   "cell_type": "code",
   "execution_count": 202,
   "metadata": {},
   "outputs": [
    {
     "name": "stdout",
     "output_type": "stream",
     "text": [
      "<class 'numpy.ndarray'>\n",
      "<class 'numpy.ndarray'>\n",
      "(100,)\n"
     ]
    }
   ],
   "source": [
    "X = training_data.values[:,:3]\n",
    "print(type(X))\n",
    "y = np.array(training_data.Label)\n",
    "#y=y.reshape(100,1)\n",
    "print(type(y))\n",
    "print(y.shape)\n"
   ]
  },
  {
   "cell_type": "code",
   "execution_count": 203,
   "metadata": {},
   "outputs": [],
   "source": [
    "# Nous devons maintenant stocker les differents titres de categrories pour pouvoir afficher notre arbre\n",
    "header = [\"color\", \"size\", \"season\", \"label\"]"
   ]
  },
  {
   "cell_type": "code",
   "execution_count": 204,
   "metadata": {},
   "outputs": [],
   "source": [
    "# Definir la fonction permettant de trouver les differentes valeurs possibles pour chaque categorie #"
   ]
  },
  {
   "cell_type": "code",
   "execution_count": 205,
   "metadata": {},
   "outputs": [],
   "source": [
    "def unique_vals(rows, col):\n",
    "    return set([row[col] for row in rows])"
   ]
  },
  {
   "cell_type": "code",
   "execution_count": 206,
   "metadata": {},
   "outputs": [],
   "source": [
    "# Testez votre fonction pour l'attribut \"Seasons\" ; vous devriez obtenir 'Spring, Summer, Winter)"
   ]
  },
  {
   "cell_type": "code",
   "execution_count": 207,
   "metadata": {},
   "outputs": [
    {
     "data": {
      "text/plain": [
       "{'Spring', 'Summer', 'Winter'}"
      ]
     },
     "execution_count": 207,
     "metadata": {},
     "output_type": "execute_result"
    }
   ],
   "source": [
    "unique_vals(X, 2)"
   ]
  },
  {
   "cell_type": "code",
   "execution_count": 208,
   "metadata": {},
   "outputs": [],
   "source": [
    "# Definir la fonction permettant de compter chaque nombre de fruits dans le dataset (creer un dictionnaire)"
   ]
  },
  {
   "cell_type": "code",
   "execution_count": 209,
   "metadata": {},
   "outputs": [],
   "source": [
    "def class_counts(rows_y):\n",
    "    counts = {}  # a dictionary of label -> count.\n",
    "    for row_y in rows_y:\n",
    "        # in our dataset format, the label is always the last column\n",
    "        label = row_y[-1]\n",
    "        if label not in counts:\n",
    "            counts[label] = 0\n",
    "        counts[label] += 1\n",
    "    return counts"
   ]
  },
  {
   "cell_type": "code",
   "execution_count": 210,
   "metadata": {},
   "outputs": [
    {
     "data": {
      "text/plain": [
       "{'e': 2}"
      ]
     },
     "execution_count": 210,
     "metadata": {},
     "output_type": "execute_result"
    }
   ],
   "source": [
    "## Lancez votre fonction\n",
    "class_counts(y)\n",
    "apple = ['Apple', 'Apple']\n",
    "class_counts(apple)\n",
    "## Elle devrait retourner : {'Grape': 19, 'Apple': 19, 'Orange': 20, 'Kiwi': 22, 'Lemon': 20} "
   ]
  },
  {
   "cell_type": "code",
   "execution_count": 211,
   "metadata": {},
   "outputs": [],
   "source": [
    "def is_numeric(value):\n",
    "    \"\"\"Test if a value is numeric.\"\"\"\n",
    "    return isinstance(value, int) or isinstance(value, float)"
   ]
  },
  {
   "cell_type": "code",
   "execution_count": 212,
   "metadata": {},
   "outputs": [
    {
     "data": {
      "text/plain": [
       "False"
      ]
     },
     "execution_count": 212,
     "metadata": {},
     "output_type": "execute_result"
    }
   ],
   "source": [
    "#######\n",
    "# Demo:\n",
    "is_numeric(7)\n",
    "is_numeric(\"Red\")\n",
    "#######"
   ]
  },
  {
   "cell_type": "code",
   "execution_count": 213,
   "metadata": {},
   "outputs": [],
   "source": [
    "class Question:\n",
    "    \"\"\"A Question is used to partition a dataset.\n",
    "\n",
    "    This class just records a 'column number' (e.g., 0 for Color) and a\n",
    "    'column value' (e.g., Green). The 'match' method is used to compare\n",
    "    the feature value in an example to the feature value stored in the\n",
    "    question. See the demo below.\n",
    "    \"\"\"\n",
    "\n",
    "    def __init__(self, column, value):\n",
    "        self.column = column\n",
    "        self.value = value\n",
    "\n",
    "    def match(self, example):\n",
    "        # Compare the feature value in an example to the\n",
    "        # feature value in this question.\n",
    "        val = example[self.column]\n",
    "        if is_numeric(val):\n",
    "            return val >= self.value\n",
    "        else:\n",
    "            return val == self.value\n",
    "\n",
    "    def __repr__(self):\n",
    "        # This is just a helper method to print\n",
    "        # the question in a readable format.\n",
    "        condition = \"==\"\n",
    "        if is_numeric(self.value):\n",
    "            condition = \">=\"\n",
    "        return \"Is %s %s %s?\" % (\n",
    "            header[self.column], condition, str(self.value))"
   ]
  },
  {
   "cell_type": "code",
   "execution_count": 214,
   "metadata": {},
   "outputs": [
    {
     "data": {
      "text/plain": [
       "Is color >= 2?"
      ]
     },
     "execution_count": 214,
     "metadata": {},
     "output_type": "execute_result"
    }
   ],
   "source": [
    "#######\n",
    "# Demo:\n",
    "# Let's write a question for a numeric attribute\n",
    "Question(0, 2)"
   ]
  },
  {
   "cell_type": "code",
   "execution_count": 215,
   "metadata": {},
   "outputs": [
    {
     "data": {
      "text/plain": [
       "Is color == Green?"
      ]
     },
     "execution_count": 215,
     "metadata": {},
     "output_type": "execute_result"
    }
   ],
   "source": [
    "# How about one for a categorical attribute\n",
    "q = Question(0, 'Green')\n",
    "q"
   ]
  },
  {
   "cell_type": "code",
   "execution_count": 216,
   "metadata": {},
   "outputs": [
    {
     "data": {
      "text/plain": [
       "True"
      ]
     },
     "execution_count": 216,
     "metadata": {},
     "output_type": "execute_result"
    }
   ],
   "source": [
    "# Let's pick an example from the training set...\n",
    "example = X[1]\n",
    "# ... and see if it matches the question\n",
    "q.match(example) # this will be true, since the first example is Green.\n",
    "#######"
   ]
  },
  {
   "cell_type": "code",
   "execution_count": 217,
   "metadata": {},
   "outputs": [],
   "source": [
    "def partition(rows, question):\n",
    "    \"\"\"Partitions a dataset.\n",
    "\n",
    "    For each row in the dataset, check if it matches the question. If\n",
    "    so, add it to 'true rows', otherwise, add it to 'false rows'.\n",
    "    \"\"\"\n",
    "    true_rows, false_rows = [], []\n",
    "    for row in rows:\n",
    "        if question.match(row):\n",
    "            true_rows.append(row)\n",
    "        else:\n",
    "            false_rows.append(row)\n",
    "    return true_rows, false_rows"
   ]
  },
  {
   "cell_type": "code",
   "execution_count": 218,
   "metadata": {},
   "outputs": [
    {
     "name": "stdout",
     "output_type": "stream",
     "text": [
      "[array(['Green', 3, 'Spring'], dtype=object), array(['Green', 2, 'Winter'], dtype=object), array(['Yellow', 3, 'Winter'], dtype=object), array(['Green', 2, 'Winter'], dtype=object), array(['Yellow', 3, 'Winter'], dtype=object), array(['Green', 1, 'Summer'], dtype=object), array(['Green', 3, 'Winter'], dtype=object), array(['Yellow', 2, 'Winter'], dtype=object)]\n"
     ]
    }
   ],
   "source": [
    "#######\n",
    "# Demo:\n",
    "# Let's partition the training data based on whether rows are Red.\n",
    "true_rows, false_rows = partition(X, Question(0, 'Red'))\n",
    "# This will contain all the 'Red' rows.\n",
    "print(false_rows[:8])"
   ]
  },
  {
   "cell_type": "code",
   "execution_count": 219,
   "metadata": {},
   "outputs": [
    {
     "data": {
      "text/plain": [
       "[array(['Green', 3, 'Spring'], dtype=object),\n",
       " array(['Green', 2, 'Winter'], dtype=object),\n",
       " array(['Yellow', 3, 'Winter'], dtype=object),\n",
       " array(['Green', 2, 'Winter'], dtype=object),\n",
       " array(['Yellow', 3, 'Winter'], dtype=object),\n",
       " array(['Green', 1, 'Summer'], dtype=object),\n",
       " array(['Green', 3, 'Winter'], dtype=object),\n",
       " array(['Yellow', 2, 'Winter'], dtype=object),\n",
       " array(['Green', 3, 'Spring'], dtype=object),\n",
       " array(['Green', 2, 'Winter'], dtype=object),\n",
       " array(['Yellow', 2, 'Winter'], dtype=object),\n",
       " array(['Green', 3, 'Spring'], dtype=object),\n",
       " array(['Green', 3, 'Winter'], dtype=object),\n",
       " array(['Yellow', 3, 'Winter'], dtype=object),\n",
       " array(['Green', 3, 'Spring'], dtype=object),\n",
       " array(['Green', 2, 'Winter'], dtype=object),\n",
       " array(['Yellow', 3, 'Winter'], dtype=object),\n",
       " array(['Green', 3, 'Spring'], dtype=object),\n",
       " array(['Green', 2, 'Winter'], dtype=object),\n",
       " array(['Yellow', 3, 'Winter'], dtype=object),\n",
       " array(['Green', 3, 'Spring'], dtype=object),\n",
       " array(['Green', 2, 'Winter'], dtype=object),\n",
       " array(['Yellow', 3, 'Winter'], dtype=object),\n",
       " array(['Green', 3, 'Spring'], dtype=object),\n",
       " array(['Green', 2, 'Winter'], dtype=object),\n",
       " array(['Yellow', 3, 'Winter'], dtype=object),\n",
       " array(['Green', 3, 'Spring'], dtype=object),\n",
       " array(['Green', 2, 'Winter'], dtype=object),\n",
       " array(['Yellow', 3, 'Winter'], dtype=object),\n",
       " array(['Green', 3, 'Spring'], dtype=object),\n",
       " array(['Green', 2, 'Winter'], dtype=object),\n",
       " array(['Yellow', 3, 'Winter'], dtype=object),\n",
       " array(['Green', 3, 'Spring'], dtype=object),\n",
       " array(['Green', 2, 'Winter'], dtype=object),\n",
       " array(['Yellow', 3, 'Winter'], dtype=object),\n",
       " array(['Green', 3, 'Spring'], dtype=object),\n",
       " array(['Green', 2, 'Winter'], dtype=object),\n",
       " array(['Yellow', 3, 'Winter'], dtype=object),\n",
       " array(['Green', 3, 'Spring'], dtype=object),\n",
       " array(['Green', 2, 'Winter'], dtype=object),\n",
       " array(['Yellow', 3, 'Winter'], dtype=object),\n",
       " array(['Green', 3, 'Spring'], dtype=object),\n",
       " array(['Green', 2, 'Winter'], dtype=object),\n",
       " array(['Yellow', 3, 'Winter'], dtype=object),\n",
       " array(['Green', 3, 'Spring'], dtype=object),\n",
       " array(['Green', 2, 'Winter'], dtype=object),\n",
       " array(['Yellow', 3, 'Winter'], dtype=object),\n",
       " array(['Green', 3, 'Spring'], dtype=object),\n",
       " array(['Green', 2, 'Winter'], dtype=object),\n",
       " array(['Yellow', 3, 'Winter'], dtype=object),\n",
       " array(['Green', 3, 'Spring'], dtype=object),\n",
       " array(['Green', 2, 'Winter'], dtype=object),\n",
       " array(['Yellow', 3, 'Winter'], dtype=object),\n",
       " array(['Green', 3, 'Spring'], dtype=object),\n",
       " array(['Green', 2, 'Winter'], dtype=object),\n",
       " array(['Yellow', 3, 'Winter'], dtype=object),\n",
       " array(['Green', 3, 'Spring'], dtype=object),\n",
       " array(['Green', 2, 'Winter'], dtype=object),\n",
       " array(['Yellow', 3, 'Winter'], dtype=object),\n",
       " array(['Green', 2, 'Winter'], dtype=object),\n",
       " array(['Green', 2, 'Winter'], dtype=object)]"
      ]
     },
     "execution_count": 219,
     "metadata": {},
     "output_type": "execute_result"
    }
   ],
   "source": [
    "# This will contain everything else.\n",
    "false_rows\n",
    "#######"
   ]
  },
  {
   "cell_type": "code",
   "execution_count": 220,
   "metadata": {},
   "outputs": [],
   "source": [
    "def gini(rows):\n",
    "    \"\"\"Calculate the Gini Impurity for a list of rows.\n",
    "\n",
    "    There are a few different ways to do this, I thought this one was\n",
    "    the most concise. See:\n",
    "    https://en.wikipedia.org/wiki/Decision_tree_learning#Gini_impurity\n",
    "    \"\"\"\n",
    "    counts = class_counts(rows)\n",
    "    impurity = 1\n",
    "    for lbl in counts:\n",
    "        prob_of_lbl = counts[lbl] / float(len(rows))\n",
    "        impurity -= prob_of_lbl**2\n",
    "    return impurity"
   ]
  },
  {
   "cell_type": "code",
   "execution_count": 221,
   "metadata": {},
   "outputs": [
    {
     "data": {
      "text/plain": [
       "0.5751999999999999"
      ]
     },
     "execution_count": 221,
     "metadata": {},
     "output_type": "execute_result"
    }
   ],
   "source": [
    "#######\n",
    "# Demo:\n",
    "# Let's look at some example to understand how Gini Impurity works.\n",
    "#\n",
    "# First, we'll look at a dataset with no mixing.\n",
    "no_mixing = ['Apple','Apple']\n",
    "# this will return 0\n",
    "gini(y)"
   ]
  },
  {
   "cell_type": "code",
   "execution_count": 222,
   "metadata": {},
   "outputs": [
    {
     "data": {
      "text/plain": [
       "0.0"
      ]
     },
     "execution_count": 222,
     "metadata": {},
     "output_type": "execute_result"
    }
   ],
   "source": [
    "# Now, we'll look at dataset with a 50:50 apples:oranges ratio\n",
    "some_mixing = ['Apple','Orange']\n",
    "# this will return 0.5 - meaning, there's a 50% chance of misclassifying\n",
    "# a random example we draw from the dataset.\n",
    "gini(some_mixing)"
   ]
  },
  {
   "cell_type": "code",
   "execution_count": 223,
   "metadata": {},
   "outputs": [
    {
     "data": {
      "text/plain": [
       "0.5599999999999999"
      ]
     },
     "execution_count": 223,
     "metadata": {},
     "output_type": "execute_result"
    }
   ],
   "source": [
    "# Now, we'll look at a dataset with many different labels\n",
    "lots_of_mixing = ['Apple',\n",
    "                  'Orange',\n",
    "                  'Grape',\n",
    "                  'Grapefruit',\n",
    "                  'Blueberry']\n",
    "# This will return 0.8\n",
    "gini(lots_of_mixing)\n",
    "#######"
   ]
  },
  {
   "cell_type": "code",
   "execution_count": 224,
   "metadata": {},
   "outputs": [],
   "source": [
    "def info_gain(left, right, current_uncertainty):\n",
    "    \"\"\"Information Gain.\n",
    "\n",
    "    The uncertainty of the starting node, minus the weighted impurity of\n",
    "    two child nodes.\n",
    "    \"\"\"\n",
    "    p = float(len(left)) / (len(left) + len(right))\n",
    "    return current_uncertainty - p * gini(left) - (1 - p) * gini(right)"
   ]
  },
  {
   "cell_type": "code",
   "execution_count": 225,
   "metadata": {},
   "outputs": [
    {
     "data": {
      "text/plain": [
       "0.5433999999999999"
      ]
     },
     "execution_count": 225,
     "metadata": {},
     "output_type": "execute_result"
    }
   ],
   "source": [
    "#######\n",
    "# Demo:\n",
    "# Calculate the uncertainy of our training data.\n",
    "current_uncertainty = gini(X)\n",
    "current_uncertainty\n"
   ]
  },
  {
   "cell_type": "code",
   "execution_count": 226,
   "metadata": {},
   "outputs": [
    {
     "data": {
      "text/plain": [
       "0.06698825961140953"
      ]
     },
     "execution_count": 226,
     "metadata": {},
     "output_type": "execute_result"
    }
   ],
   "source": [
    "# How much information do we gain by partioning on 'Green'?\n",
    "true_rows, false_rows = partition(X, Question(0, 'Green'))\n",
    "info_gain(true_rows, false_rows, current_uncertainty)"
   ]
  },
  {
   "cell_type": "code",
   "execution_count": 227,
   "metadata": {},
   "outputs": [
    {
     "data": {
      "text/plain": [
       "0.0717564522908784"
      ]
     },
     "execution_count": 227,
     "metadata": {},
     "output_type": "execute_result"
    }
   ],
   "source": [
    "# What about if we partioned on 'Red' instead?\n",
    "true_rows, false_rows = partition(X, Question(0,'Red'))\n",
    "info_gain(true_rows, false_rows, current_uncertainty)"
   ]
  },
  {
   "cell_type": "code",
   "execution_count": 228,
   "metadata": {},
   "outputs": [
    {
     "name": "stdout",
     "output_type": "stream",
     "text": [
      "<class 'pandas.core.frame.DataFrame'>\n",
      "<class 'numpy.ndarray'>\n",
      "[array(['Red', 1, 'Summer'], dtype=object), array(['Red', 3, 'Winter'], dtype=object), array(['Red', 3, 'Spring'], dtype=object)]\n",
      "[array(['Green', 3, 'Spring'], dtype=object), array(['Green', 2, 'Winter'], dtype=object), array(['Yellow', 3, 'Winter'], dtype=object)]\n"
     ]
    }
   ],
   "source": [
    "# It looks like we learned more using 'Red' (0.37), than 'Green' (0.14).\n",
    "# Why? Look at the different splits that result, and see which one\n",
    "# looks more 'unmixed' to you.\n",
    "#print(true_rows)\n",
    "true_rows, false_rows = partition(X, Question(0,'Red'))\n",
    "print(type(training_data))\n",
    "print(type(X))\n",
    "# Here, the true_rows contain only 'Grapes'.\n",
    "print(true_rows[:3])\n",
    "print(false_rows[:3])"
   ]
  },
  {
   "cell_type": "code",
   "execution_count": 229,
   "metadata": {},
   "outputs": [
    {
     "data": {
      "text/plain": [
       "[array(['Green', 3, 'Spring'], dtype=object),\n",
       " array(['Green', 2, 'Winter'], dtype=object),\n",
       " array(['Yellow', 3, 'Winter'], dtype=object),\n",
       " array(['Green', 2, 'Winter'], dtype=object),\n",
       " array(['Yellow', 3, 'Winter'], dtype=object),\n",
       " array(['Green', 1, 'Summer'], dtype=object),\n",
       " array(['Green', 3, 'Winter'], dtype=object),\n",
       " array(['Yellow', 2, 'Winter'], dtype=object),\n",
       " array(['Green', 3, 'Spring'], dtype=object),\n",
       " array(['Green', 2, 'Winter'], dtype=object),\n",
       " array(['Yellow', 2, 'Winter'], dtype=object),\n",
       " array(['Green', 3, 'Spring'], dtype=object),\n",
       " array(['Green', 3, 'Winter'], dtype=object),\n",
       " array(['Yellow', 3, 'Winter'], dtype=object),\n",
       " array(['Green', 3, 'Spring'], dtype=object),\n",
       " array(['Green', 2, 'Winter'], dtype=object),\n",
       " array(['Yellow', 3, 'Winter'], dtype=object),\n",
       " array(['Green', 3, 'Spring'], dtype=object),\n",
       " array(['Green', 2, 'Winter'], dtype=object),\n",
       " array(['Yellow', 3, 'Winter'], dtype=object),\n",
       " array(['Green', 3, 'Spring'], dtype=object),\n",
       " array(['Green', 2, 'Winter'], dtype=object),\n",
       " array(['Yellow', 3, 'Winter'], dtype=object),\n",
       " array(['Green', 3, 'Spring'], dtype=object),\n",
       " array(['Green', 2, 'Winter'], dtype=object),\n",
       " array(['Yellow', 3, 'Winter'], dtype=object),\n",
       " array(['Green', 3, 'Spring'], dtype=object),\n",
       " array(['Green', 2, 'Winter'], dtype=object),\n",
       " array(['Yellow', 3, 'Winter'], dtype=object),\n",
       " array(['Green', 3, 'Spring'], dtype=object),\n",
       " array(['Green', 2, 'Winter'], dtype=object),\n",
       " array(['Yellow', 3, 'Winter'], dtype=object),\n",
       " array(['Green', 3, 'Spring'], dtype=object),\n",
       " array(['Green', 2, 'Winter'], dtype=object),\n",
       " array(['Yellow', 3, 'Winter'], dtype=object),\n",
       " array(['Green', 3, 'Spring'], dtype=object),\n",
       " array(['Green', 2, 'Winter'], dtype=object),\n",
       " array(['Yellow', 3, 'Winter'], dtype=object),\n",
       " array(['Green', 3, 'Spring'], dtype=object),\n",
       " array(['Green', 2, 'Winter'], dtype=object),\n",
       " array(['Yellow', 3, 'Winter'], dtype=object),\n",
       " array(['Green', 3, 'Spring'], dtype=object),\n",
       " array(['Green', 2, 'Winter'], dtype=object),\n",
       " array(['Yellow', 3, 'Winter'], dtype=object),\n",
       " array(['Green', 3, 'Spring'], dtype=object),\n",
       " array(['Green', 2, 'Winter'], dtype=object),\n",
       " array(['Yellow', 3, 'Winter'], dtype=object),\n",
       " array(['Green', 3, 'Spring'], dtype=object),\n",
       " array(['Green', 2, 'Winter'], dtype=object),\n",
       " array(['Yellow', 3, 'Winter'], dtype=object),\n",
       " array(['Green', 3, 'Spring'], dtype=object),\n",
       " array(['Green', 2, 'Winter'], dtype=object),\n",
       " array(['Yellow', 3, 'Winter'], dtype=object),\n",
       " array(['Green', 3, 'Spring'], dtype=object),\n",
       " array(['Green', 2, 'Winter'], dtype=object),\n",
       " array(['Yellow', 3, 'Winter'], dtype=object),\n",
       " array(['Green', 3, 'Spring'], dtype=object),\n",
       " array(['Green', 2, 'Winter'], dtype=object),\n",
       " array(['Yellow', 3, 'Winter'], dtype=object),\n",
       " array(['Green', 2, 'Winter'], dtype=object),\n",
       " array(['Green', 2, 'Winter'], dtype=object)]"
      ]
     },
     "execution_count": 229,
     "metadata": {},
     "output_type": "execute_result"
    }
   ],
   "source": [
    "# And the false rows contain two types of fruit. Not too bad.\n",
    "false_rows"
   ]
  },
  {
   "cell_type": "code",
   "execution_count": 230,
   "metadata": {},
   "outputs": [
    {
     "data": {
      "text/plain": [
       "[array(['Green', 3, 'Spring'], dtype=object),\n",
       " array(['Green', 2, 'Winter'], dtype=object),\n",
       " array(['Green', 2, 'Winter'], dtype=object),\n",
       " array(['Green', 1, 'Summer'], dtype=object),\n",
       " array(['Green', 3, 'Winter'], dtype=object),\n",
       " array(['Green', 3, 'Spring'], dtype=object),\n",
       " array(['Green', 2, 'Winter'], dtype=object),\n",
       " array(['Green', 3, 'Spring'], dtype=object),\n",
       " array(['Green', 3, 'Winter'], dtype=object),\n",
       " array(['Green', 3, 'Spring'], dtype=object),\n",
       " array(['Green', 2, 'Winter'], dtype=object),\n",
       " array(['Green', 3, 'Spring'], dtype=object),\n",
       " array(['Green', 2, 'Winter'], dtype=object),\n",
       " array(['Green', 3, 'Spring'], dtype=object),\n",
       " array(['Green', 2, 'Winter'], dtype=object),\n",
       " array(['Green', 3, 'Spring'], dtype=object),\n",
       " array(['Green', 2, 'Winter'], dtype=object),\n",
       " array(['Green', 3, 'Spring'], dtype=object),\n",
       " array(['Green', 2, 'Winter'], dtype=object),\n",
       " array(['Green', 3, 'Spring'], dtype=object),\n",
       " array(['Green', 2, 'Winter'], dtype=object),\n",
       " array(['Green', 3, 'Spring'], dtype=object),\n",
       " array(['Green', 2, 'Winter'], dtype=object),\n",
       " array(['Green', 3, 'Spring'], dtype=object),\n",
       " array(['Green', 2, 'Winter'], dtype=object),\n",
       " array(['Green', 3, 'Spring'], dtype=object),\n",
       " array(['Green', 2, 'Winter'], dtype=object),\n",
       " array(['Green', 3, 'Spring'], dtype=object),\n",
       " array(['Green', 2, 'Winter'], dtype=object),\n",
       " array(['Green', 3, 'Spring'], dtype=object),\n",
       " array(['Green', 2, 'Winter'], dtype=object),\n",
       " array(['Green', 3, 'Spring'], dtype=object),\n",
       " array(['Green', 2, 'Winter'], dtype=object),\n",
       " array(['Green', 3, 'Spring'], dtype=object),\n",
       " array(['Green', 2, 'Winter'], dtype=object),\n",
       " array(['Green', 3, 'Spring'], dtype=object),\n",
       " array(['Green', 2, 'Winter'], dtype=object),\n",
       " array(['Green', 3, 'Spring'], dtype=object),\n",
       " array(['Green', 2, 'Winter'], dtype=object),\n",
       " array(['Green', 2, 'Winter'], dtype=object),\n",
       " array(['Green', 2, 'Winter'], dtype=object)]"
      ]
     },
     "execution_count": 230,
     "metadata": {},
     "output_type": "execute_result"
    }
   ],
   "source": [
    "# On the other hand, partitioning by Green doesn't help so much.\n",
    "true_rows, false_rows = partition(X, Question(0,'Green'))\n",
    "\n",
    "# We've isolated one apple in the true rows.\n",
    "true_rows"
   ]
  },
  {
   "cell_type": "code",
   "execution_count": 231,
   "metadata": {},
   "outputs": [
    {
     "data": {
      "text/plain": [
       "[array(['Red', 1, 'Summer'], dtype=object),\n",
       " array(['Red', 3, 'Winter'], dtype=object),\n",
       " array(['Yellow', 3, 'Winter'], dtype=object),\n",
       " array(['Yellow', 3, 'Winter'], dtype=object),\n",
       " array(['Red', 3, 'Spring'], dtype=object),\n",
       " array(['Red', 3, 'Winter'], dtype=object),\n",
       " array(['Yellow', 2, 'Winter'], dtype=object),\n",
       " array(['Red', 1, 'Summer'], dtype=object),\n",
       " array(['Red', 3, 'Winter'], dtype=object),\n",
       " array(['Yellow', 2, 'Winter'], dtype=object),\n",
       " array(['Red', 1, 'Summer'], dtype=object),\n",
       " array(['Red', 3, 'Winter'], dtype=object),\n",
       " array(['Yellow', 3, 'Winter'], dtype=object),\n",
       " array(['Red', 1, 'Summer'], dtype=object),\n",
       " array(['Red', 3, 'Winter'], dtype=object),\n",
       " array(['Yellow', 3, 'Winter'], dtype=object),\n",
       " array(['Red', 1, 'Summer'], dtype=object),\n",
       " array(['Red', 3, 'Winter'], dtype=object),\n",
       " array(['Yellow', 3, 'Winter'], dtype=object),\n",
       " array(['Red', 1, 'Summer'], dtype=object),\n",
       " array(['Red', 3, 'Winter'], dtype=object),\n",
       " array(['Yellow', 3, 'Winter'], dtype=object),\n",
       " array(['Red', 1, 'Summer'], dtype=object),\n",
       " array(['Red', 3, 'Winter'], dtype=object),\n",
       " array(['Yellow', 3, 'Winter'], dtype=object),\n",
       " array(['Red', 1, 'Summer'], dtype=object),\n",
       " array(['Red', 3, 'Winter'], dtype=object),\n",
       " array(['Yellow', 3, 'Winter'], dtype=object),\n",
       " array(['Red', 1, 'Summer'], dtype=object),\n",
       " array(['Red', 3, 'Winter'], dtype=object),\n",
       " array(['Yellow', 3, 'Winter'], dtype=object),\n",
       " array(['Red', 1, 'Summer'], dtype=object),\n",
       " array(['Red', 3, 'Winter'], dtype=object),\n",
       " array(['Yellow', 3, 'Winter'], dtype=object),\n",
       " array(['Red', 1, 'Summer'], dtype=object),\n",
       " array(['Red', 3, 'Winter'], dtype=object),\n",
       " array(['Yellow', 3, 'Winter'], dtype=object),\n",
       " array(['Red', 1, 'Summer'], dtype=object),\n",
       " array(['Red', 3, 'Winter'], dtype=object),\n",
       " array(['Yellow', 3, 'Winter'], dtype=object),\n",
       " array(['Red', 1, 'Summer'], dtype=object),\n",
       " array(['Red', 3, 'Winter'], dtype=object),\n",
       " array(['Yellow', 3, 'Winter'], dtype=object),\n",
       " array(['Red', 1, 'Summer'], dtype=object),\n",
       " array(['Red', 3, 'Winter'], dtype=object),\n",
       " array(['Yellow', 3, 'Winter'], dtype=object),\n",
       " array(['Red', 1, 'Summer'], dtype=object),\n",
       " array(['Red', 3, 'Winter'], dtype=object),\n",
       " array(['Yellow', 3, 'Winter'], dtype=object),\n",
       " array(['Red', 1, 'Summer'], dtype=object),\n",
       " array(['Red', 3, 'Winter'], dtype=object),\n",
       " array(['Yellow', 3, 'Winter'], dtype=object),\n",
       " array(['Red', 1, 'Summer'], dtype=object),\n",
       " array(['Red', 3, 'Winter'], dtype=object),\n",
       " array(['Yellow', 3, 'Winter'], dtype=object),\n",
       " array(['Red', 1, 'Summer'], dtype=object),\n",
       " array(['Red', 3, 'Winter'], dtype=object),\n",
       " array(['Yellow', 3, 'Winter'], dtype=object),\n",
       " array(['Red', 3, 'Winter'], dtype=object)]"
      ]
     },
     "execution_count": 231,
     "metadata": {},
     "output_type": "execute_result"
    }
   ],
   "source": [
    "# But, the false-rows are badly mixed up.\n",
    "false_rows\n",
    "#######"
   ]
  },
  {
   "cell_type": "code",
   "execution_count": 232,
   "metadata": {},
   "outputs": [],
   "source": [
    "def find_best_split(rows):\n",
    "    \"\"\"Find the best question to ask by iterating over every feature / value\n",
    "    and calculating the information gain.\"\"\"\n",
    "    best_gain = 0  # keep track of the best information gain\n",
    "    best_question = None  # keep train of the feature / value that produced it\n",
    "    current_uncertainty = gini(rows)\n",
    "    n_features = len(rows[0]) - 1  # number of columns\n",
    "\n",
    "    for col in range(n_features):  # for each feature\n",
    "\n",
    "        values = set([row[col] for row in rows])  # unique values in the column\n",
    "\n",
    "        for val in values:  # for each value\n",
    "\n",
    "            question = Question(col, val)\n",
    "\n",
    "            # try splitting the dataset\n",
    "            true_rows, false_rows = partition(rows, question)\n",
    "\n",
    "            # Skip this split if it doesn't divide the\n",
    "            # dataset.\n",
    "            if len(true_rows) == 0 or len(false_rows) == 0:\n",
    "                continue\n",
    "\n",
    "            # Calculate the information gain from this split\n",
    "            gain = info_gain(true_rows, false_rows, current_uncertainty)\n",
    "\n",
    "            # You actually can use '>' instead of '>=' here\n",
    "            # but I wanted the tree to look a certain way for our\n",
    "            # toy dataset.\n",
    "            if gain >= best_gain:\n",
    "                best_gain, best_question = gain, question\n",
    "\n",
    "    return best_gain, best_question"
   ]
  },
  {
   "cell_type": "code",
   "execution_count": 233,
   "metadata": {},
   "outputs": [
    {
     "data": {
      "text/plain": [
       "Is size >= 2?"
      ]
     },
     "execution_count": 233,
     "metadata": {},
     "output_type": "execute_result"
    }
   ],
   "source": [
    "#######\n",
    "# Demo:\n",
    "# Find the best question to ask first for our toy dataset.\n",
    "best_gain, best_question = find_best_split(X)\n",
    "best_question\n",
    "# FYI: is color == Red is just as good. See the note in the code above\n",
    "# where I used '>='.\n",
    "#######"
   ]
  },
  {
   "cell_type": "code",
   "execution_count": 234,
   "metadata": {},
   "outputs": [],
   "source": [
    "class Leaf:\n",
    "    \"\"\"A Leaf node classifies data.\n",
    "\n",
    "    This holds a dictionary of class (e.g., \"Apple\") -> number of times\n",
    "    it appears in the rows from the training data that reach this leaf.\n",
    "    \"\"\"\n",
    "\n",
    "    def __init__(self, rows):\n",
    "        self.predictions = class_counts(rows)"
   ]
  },
  {
   "cell_type": "code",
   "execution_count": 235,
   "metadata": {},
   "outputs": [],
   "source": [
    "class Decision_Node:\n",
    "    \"\"\"A Decision Node asks a question.\n",
    "\n",
    "    This holds a reference to the question, and to the two child nodes.\n",
    "    \"\"\"\n",
    "\n",
    "    def __init__(self,\n",
    "                 question,\n",
    "                 true_branch,\n",
    "                 false_branch):\n",
    "        self.question = question\n",
    "        self.true_branch = true_branch\n",
    "        self.false_branch = false_branch"
   ]
  },
  {
   "cell_type": "code",
   "execution_count": 236,
   "metadata": {},
   "outputs": [],
   "source": [
    "def build_tree(rows):\n",
    "    \"\"\"Builds the tree.\n",
    "\n",
    "    Rules of recursion: 1) Believe that it works. 2) Start by checking\n",
    "    for the base case (no further information gain). 3) Prepare for\n",
    "    giant stack traces.\n",
    "    \"\"\"\n",
    "\n",
    "    # Try partitioing the dataset on each of the unique attribute,\n",
    "    # calculate the information gain,\n",
    "    # and return the question that produces the highest gain.\n",
    "    gain, question = find_best_split(rows)\n",
    "\n",
    "    # Base case: no further info gain\n",
    "    # Since we can ask no further questions,\n",
    "    # we'll return a leaf.\n",
    "    if gain == 0:\n",
    "        return Leaf(rows)\n",
    "\n",
    "    # If we reach here, we have found a useful feature / value\n",
    "    # to partition on.\n",
    "    true_rows, false_rows = partition(rows, question)\n",
    "\n",
    "    # Recursively build the true branch.\n",
    "    true_branch = build_tree(true_rows)\n",
    "\n",
    "    # Recursively build the false branch.\n",
    "    false_branch = build_tree(false_rows)\n",
    "\n",
    "    # Return a Question node.\n",
    "    # This records the best feature / value to ask at this point,\n",
    "    # as well as the branches to follow\n",
    "    # dependingo on the answer.\n",
    "    return Decision_Node(question, true_branch, false_branch)"
   ]
  },
  {
   "cell_type": "code",
   "execution_count": 237,
   "metadata": {},
   "outputs": [],
   "source": [
    "def print_tree(node, spacing=\"\"):\n",
    "    \"\"\"World's most elegant tree printing function.\"\"\"\n",
    "\n",
    "    # Base case: we've reached a leaf\n",
    "    if isinstance(node, Leaf):\n",
    "        print (spacing + \"Predict\", node.predictions)\n",
    "        return\n",
    "\n",
    "    # Print the question at this node\n",
    "    print (spacing + str(node.question))\n",
    "\n",
    "    # Call this function recursively on the true branch\n",
    "    print (spacing + '--> True:')\n",
    "    print_tree(node.true_branch, spacing + \"  \")\n",
    "\n",
    "    # Call this function recursively on the false branch\n",
    "    print (spacing + '--> False:')\n",
    "    print_tree(node.false_branch, spacing + \"  \")"
   ]
  },
  {
   "cell_type": "code",
   "execution_count": 238,
   "metadata": {},
   "outputs": [],
   "source": [
    "my_tree = build_tree(X)"
   ]
  },
  {
   "cell_type": "code",
   "execution_count": 239,
   "metadata": {},
   "outputs": [
    {
     "name": "stdout",
     "output_type": "stream",
     "text": [
      "Is size >= 2?\n",
      "--> True:\n",
      "  Is color == Green?\n",
      "  --> True:\n",
      "    Is size >= 3?\n",
      "    --> True:\n",
      "      Predict {'Spring': 18, 'Winter': 2}\n",
      "    --> False:\n",
      "      Predict {'Winter': 20}\n",
      "  --> False:\n",
      "    Is color == Red?\n",
      "    --> True:\n",
      "      Predict {'Winter': 20, 'Spring': 1}\n",
      "    --> False:\n",
      "      Predict {'Winter': 20}\n",
      "--> False:\n",
      "  Predict {'Summer': 19}\n"
     ]
    }
   ],
   "source": [
    "print_tree(my_tree)"
   ]
  },
  {
   "cell_type": "code",
   "execution_count": 240,
   "metadata": {},
   "outputs": [],
   "source": [
    "def classify(row, node):\n",
    "    \"\"\"See the 'rules of recursion' above.\"\"\"\n",
    "\n",
    "    # Base case: we've reached a leaf\n",
    "    if isinstance(node, Leaf):\n",
    "        return node.predictions\n",
    "\n",
    "    # Decide whether to follow the true-branch or the false-branch.\n",
    "    # Compare the feature / value stored in the node,\n",
    "    # to the example we're considering.\n",
    "    if node.question.match(row):\n",
    "        return classify(row, node.true_branch)\n",
    "    else:\n",
    "        return classify(row, node.false_branch)"
   ]
  },
  {
   "cell_type": "code",
   "execution_count": 241,
   "metadata": {},
   "outputs": [
    {
     "data": {
      "text/plain": [
       "{'Summer': 19}"
      ]
     },
     "execution_count": 241,
     "metadata": {},
     "output_type": "execute_result"
    }
   ],
   "source": [
    "#######\n",
    "# Demo:\n",
    "# The tree predicts the 1st row of our\n",
    "# training data is an apple with confidence 1.\n",
    "classify(y[0], my_tree)\n",
    "#######"
   ]
  },
  {
   "cell_type": "code",
   "execution_count": 242,
   "metadata": {},
   "outputs": [],
   "source": [
    "def print_leaf(counts):\n",
    "    \"\"\"A nicer way to print the predictions at a leaf.\"\"\"\n",
    "    total = sum(counts.values()) * 1.0\n",
    "    probs = {}\n",
    "    for lbl in counts.keys():\n",
    "        probs[lbl] = str(int(counts[lbl] / total * 100)) + \"%\"\n",
    "    return probs"
   ]
  },
  {
   "cell_type": "code",
   "execution_count": 243,
   "metadata": {},
   "outputs": [
    {
     "data": {
      "text/plain": [
       "{'Summer': '100%'}"
      ]
     },
     "execution_count": 243,
     "metadata": {},
     "output_type": "execute_result"
    }
   ],
   "source": [
    "#######\n",
    "# Demo:\n",
    "# Printing that a bit nicer\n",
    "print_leaf(classify(X[0], my_tree))\n",
    "#######"
   ]
  },
  {
   "cell_type": "code",
   "execution_count": 244,
   "metadata": {},
   "outputs": [
    {
     "data": {
      "text/plain": [
       "{'Spring': '90%', 'Winter': '10%'}"
      ]
     },
     "execution_count": 244,
     "metadata": {},
     "output_type": "execute_result"
    }
   ],
   "source": [
    "#######\n",
    "# Demo:\n",
    "# On the second example, the confidence is lower\n",
    "print_leaf(classify(X[1], my_tree))\n",
    "#######"
   ]
  },
  {
   "cell_type": "code",
   "execution_count": 245,
   "metadata": {},
   "outputs": [],
   "source": [
    "# Evaluate\n",
    "testing_data = [\n",
    "    ['Green', 3, 'Apple'],\n",
    "    ['Yellow', 4, 'Apple'],\n",
    "    ['Red', 2, 'Grape'],\n",
    "    ['Red', 1, 'Grape'],\n",
    "    ['Yellow', 3, 'Lemon'],\n",
    "]"
   ]
  },
  {
   "cell_type": "code",
   "execution_count": 246,
   "metadata": {},
   "outputs": [
    {
     "name": "stdout",
     "output_type": "stream",
     "text": [
      "Actual: Apple. Predicted: {'Spring': '90%', 'Winter': '10%'}\n",
      "Actual: Apple. Predicted: {'Winter': '100%'}\n",
      "Actual: Grape. Predicted: {'Winter': '95%', 'Spring': '4%'}\n",
      "Actual: Grape. Predicted: {'Summer': '100%'}\n",
      "Actual: Lemon. Predicted: {'Winter': '100%'}\n"
     ]
    }
   ],
   "source": [
    "for row in testing_data:\n",
    "    print (\"Actual: %s. Predicted: %s\" %\n",
    "           (row[-1], print_leaf(classify(row, my_tree))))"
   ]
  }
 ],
 "metadata": {
  "kernelspec": {
   "display_name": "Python 3",
   "language": "python",
   "name": "python3"
  },
  "language_info": {
   "codemirror_mode": {
    "name": "ipython",
    "version": 3
   },
   "file_extension": ".py",
   "mimetype": "text/x-python",
   "name": "python",
   "nbconvert_exporter": "python",
   "pygments_lexer": "ipython3",
   "version": "3.7.1"
  }
 },
 "nbformat": 4,
 "nbformat_minor": 2
}
